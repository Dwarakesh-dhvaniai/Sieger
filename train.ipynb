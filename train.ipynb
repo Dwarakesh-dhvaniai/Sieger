{
 "cells": [
  {
   "cell_type": "code",
   "execution_count": 16,
   "metadata": {},
   "outputs": [],
   "source": [
    "# Import functions\n",
    "from main import get_detections, save_cropped_from_detections\n",
    "from pathlib import Path\n",
    "\n",
    "base_dir = Path(\"/home/dhvani23/dwarakesh/Combine\")\n",
    "dataset_dir = base_dir / \"Data\"\n",
    "save_dir = base_dir / \"crop_img_cone_pattern\"\n",
    "\n",
    "# 1️⃣ Detect outer/inner circles\n",
    "detections = get_detections(dataset_dir)"
   ]
  },
  {
   "cell_type": "code",
   "execution_count": null,
   "metadata": {},
   "outputs": [],
   "source": [
    "save_cropped_from_detections(dataset_dir, save_dir,detections=detections) #This function is to check the the cone and pattern are correctly detected"
   ]
  },
  {
   "cell_type": "code",
   "execution_count": 17,
   "metadata": {},
   "outputs": [
    {
     "name": "stdout",
     "output_type": "stream",
     "text": [
      "In-memory YOLO dataset created with 97 images.\n",
      "Dataset split complete! Train: 78, Val: 19\n",
      "Using dataset: /tmp/tmp3xpfv89v/data.yaml\n",
      "Loading pretrained model: yolov9t.pt\n",
      "Starting training for 300 epochs...\n",
      "New https://pypi.org/project/ultralytics/8.3.204 available 😃 Update with 'pip install -U ultralytics'\n",
      "Ultralytics 8.3.146 🚀 Python-3.8.20 torch-2.0.0+cu118 CUDA:0 (NVIDIA GeForce RTX 3090, 24245MiB)\n",
      "\u001b[34m\u001b[1mengine/trainer: \u001b[0magnostic_nms=False, amp=True, augment=False, auto_augment=randaugment, batch=8, bgr=0.0, box=7.5, cache=False, cfg=None, classes=None, close_mosaic=10, cls=0.5, conf=None, copy_paste=0.0, copy_paste_mode=flip, cos_lr=False, cutmix=0.0, data=/tmp/tmp3xpfv89v/data.yaml, degrees=0.0, deterministic=True, device=0, dfl=1.5, dnn=False, dropout=0.0, dynamic=False, embed=None, epochs=300, erasing=0.4, exist_ok=False, fliplr=0.5, flipud=0.0, format=torchscript, fraction=1.0, freeze=backbone, half=False, hsv_h=0.015, hsv_s=0.7, hsv_v=0.4, imgsz=768, int8=False, iou=0.7, keras=False, kobj=1.0, line_width=None, lr0=0.01, lrf=0.01, mask_ratio=4, max_det=300, mixup=0.0, mode=train, model=yolov9t.pt, momentum=0.937, mosaic=1.0, multi_scale=False, name=train, nbs=64, nms=False, opset=None, optimize=False, optimizer=auto, overlap_mask=True, patience=50, perspective=0.0, plots=True, pose=12.0, pretrained=True, profile=False, project=None, rect=False, resume=False, retina_masks=False, save=True, save_conf=False, save_crop=False, save_dir=runs/detect/train, save_frames=False, save_json=False, save_period=-1, save_txt=False, scale=0.5, seed=0, shear=0.0, show=False, show_boxes=True, show_conf=True, show_labels=True, simplify=True, single_cls=False, source=None, split=val, stream_buffer=False, task=detect, time=None, tracker=botsort.yaml, translate=0.1, val=True, verbose=True, vid_stride=1, visualize=False, warmup_bias_lr=0.1, warmup_epochs=3.0, warmup_momentum=0.8, weight_decay=0.0005, workers=8, workspace=None\n",
      "Overriding model.yaml nc=80 with nc=2\n",
      "\n",
      "                   from  n    params  module                                       arguments                     \n",
      "  0                  -1  1       464  ultralytics.nn.modules.conv.Conv             [3, 16, 3, 2]                 \n",
      "  1                  -1  1      4672  ultralytics.nn.modules.conv.Conv             [16, 32, 3, 2]                \n",
      "  2                  -1  1      7872  ultralytics.nn.modules.block.ELAN1           [32, 32, 32, 16]              \n",
      "  3                  -1  1     18560  ultralytics.nn.modules.block.AConv           [32, 64]                      \n",
      "  4                  -1  1     65216  ultralytics.nn.modules.block.RepNCSPELAN4    [64, 64, 64, 32, 3]           \n",
      "  5                  -1  1     55488  ultralytics.nn.modules.block.AConv           [64, 96]                      \n",
      "  6                  -1  1    145824  ultralytics.nn.modules.block.RepNCSPELAN4    [96, 96, 96, 48, 3]           \n",
      "  7                  -1  1    110848  ultralytics.nn.modules.block.AConv           [96, 128]                     \n",
      "  8                  -1  1    258432  ultralytics.nn.modules.block.RepNCSPELAN4    [128, 128, 128, 64, 3]        \n",
      "  9                  -1  1     41344  ultralytics.nn.modules.block.SPPELAN         [128, 128, 64]                \n",
      " 10                  -1  1         0  torch.nn.modules.upsampling.Upsample         [None, 2, 'nearest']          \n",
      " 11             [-1, 6]  1         0  ultralytics.nn.modules.conv.Concat           [1]                           \n",
      " 12                  -1  1    158112  ultralytics.nn.modules.block.RepNCSPELAN4    [224, 96, 96, 48, 3]          \n",
      " 13                  -1  1         0  torch.nn.modules.upsampling.Upsample         [None, 2, 'nearest']          \n",
      " 14             [-1, 4]  1         0  ultralytics.nn.modules.conv.Concat           [1]                           \n",
      " 15                  -1  1     71360  ultralytics.nn.modules.block.RepNCSPELAN4    [160, 64, 64, 32, 3]          \n",
      " 16                  -1  1     27744  ultralytics.nn.modules.block.AConv           [64, 48]                      \n",
      " 17            [-1, 12]  1         0  ultralytics.nn.modules.conv.Concat           [1]                           \n",
      " 18                  -1  1    150432  ultralytics.nn.modules.block.RepNCSPELAN4    [144, 96, 96, 48, 3]          \n",
      " 19                  -1  1     55424  ultralytics.nn.modules.block.AConv           [96, 64]                      \n",
      " 20             [-1, 9]  1         0  ultralytics.nn.modules.conv.Concat           [1]                           \n",
      " 21                  -1  1    266624  ultralytics.nn.modules.block.RepNCSPELAN4    [192, 128, 128, 64, 3]        \n",
      " 22        [15, 18, 21]  1    567382  ultralytics.nn.modules.head.Detect           [2, [64, 96, 128]]            \n",
      "YOLOv9t summary: 544 layers, 2,005,798 parameters, 2,005,782 gradients, 7.8 GFLOPs\n",
      "\n",
      "Transferred 1303/1339 items from pretrained weights\n",
      "Freezing layer 'model.22.dfl.conv.weight'\n",
      "\u001b[34m\u001b[1mAMP: \u001b[0mrunning Automatic Mixed Precision (AMP) checks...\n",
      "\u001b[34m\u001b[1mAMP: \u001b[0mchecks passed ✅\n",
      "\u001b[34m\u001b[1mtrain: \u001b[0mFast image access ✅ (ping: 0.0±0.0 ms, read: 6151.7±349.7 MB/s, size: 12154.1 KB)\n"
     ]
    },
    {
     "name": "stderr",
     "output_type": "stream",
     "text": [
      "\u001b[34m\u001b[1mtrain: \u001b[0mScanning /tmp/tmp3xpfv89v/train/labels... 78 images, 0 backgrounds, 0 corrupt: 100%|██████████| 78/78 [00:01<00:00, 50.36it/s]"
     ]
    },
    {
     "name": "stdout",
     "output_type": "stream",
     "text": [
      "\u001b[34m\u001b[1mtrain: \u001b[0mNew cache created: /tmp/tmp3xpfv89v/train/labels.cache\n"
     ]
    },
    {
     "name": "stderr",
     "output_type": "stream",
     "text": [
      "\n"
     ]
    },
    {
     "name": "stdout",
     "output_type": "stream",
     "text": [
      "\u001b[34m\u001b[1mval: \u001b[0mFast image access ✅ (ping: 0.0±0.0 ms, read: 3777.6±1764.4 MB/s, size: 12163.6 KB)\n"
     ]
    },
    {
     "name": "stderr",
     "output_type": "stream",
     "text": [
      "\u001b[34m\u001b[1mval: \u001b[0mScanning /tmp/tmp3xpfv89v/val/labels... 19 images, 0 backgrounds, 0 corrupt: 100%|██████████| 19/19 [00:00<00:00, 31.87it/s]"
     ]
    },
    {
     "name": "stdout",
     "output_type": "stream",
     "text": [
      "\u001b[34m\u001b[1mval: \u001b[0mNew cache created: /tmp/tmp3xpfv89v/val/labels.cache\n"
     ]
    },
    {
     "name": "stderr",
     "output_type": "stream",
     "text": [
      "\n"
     ]
    },
    {
     "name": "stdout",
     "output_type": "stream",
     "text": [
      "Plotting labels to runs/detect/train/labels.jpg... \n",
      "\u001b[34m\u001b[1moptimizer:\u001b[0m 'optimizer=auto' found, ignoring 'lr0=0.01' and 'momentum=0.937' and determining best 'optimizer', 'lr0' and 'momentum' automatically... \n",
      "\u001b[34m\u001b[1moptimizer:\u001b[0m AdamW(lr=0.001667, momentum=0.9) with parameter groups 221 weight(decay=0.0), 228 weight(decay=0.0005), 227 bias(decay=0.0)\n",
      "Image sizes 768 train, 768 val\n",
      "Using 8 dataloader workers\n",
      "Logging results to \u001b[1mruns/detect/train\u001b[0m\n",
      "Starting training for 300 epochs...\n",
      "\n",
      "      Epoch    GPU_mem   box_loss   cls_loss   dfl_loss  Instances       Size\n"
     ]
    },
    {
     "name": "stderr",
     "output_type": "stream",
     "text": [
      "      1/300      2.45G     0.5739      3.481      1.033         19        768: 100%|██████████| 10/10 [00:01<00:00,  5.10it/s]\n",
      "                 Class     Images  Instances      Box(P          R      mAP50  mAP50-95): 100%|██████████| 2/2 [00:00<00:00, 12.04it/s]\n"
     ]
    },
    {
     "name": "stdout",
     "output_type": "stream",
     "text": [
      "                   all         19         38    0.00309        0.5      0.497      0.478\n",
      "\n",
      "      Epoch    GPU_mem   box_loss   cls_loss   dfl_loss  Instances       Size\n"
     ]
    },
    {
     "name": "stderr",
     "output_type": "stream",
     "text": [
      "      2/300      2.45G     0.3418      1.762     0.8891         33        768: 100%|██████████| 10/10 [00:01<00:00,  7.61it/s]\n",
      "                 Class     Images  Instances      Box(P          R      mAP50  mAP50-95): 100%|██████████| 2/2 [00:00<00:00, 13.79it/s]"
     ]
    },
    {
     "name": "stdout",
     "output_type": "stream",
     "text": [
      "                   all         19         38      0.993        0.5      0.501      0.501\n"
     ]
    },
    {
     "name": "stderr",
     "output_type": "stream",
     "text": [
      "\n"
     ]
    },
    {
     "name": "stdout",
     "output_type": "stream",
     "text": [
      "\n",
      "      Epoch    GPU_mem   box_loss   cls_loss   dfl_loss  Instances       Size\n"
     ]
    },
    {
     "name": "stderr",
     "output_type": "stream",
     "text": [
      "      3/300      2.45G     0.3494      1.002     0.8699         21        768: 100%|██████████| 10/10 [00:01<00:00,  9.04it/s]\n",
      "                 Class     Images  Instances      Box(P          R      mAP50  mAP50-95): 100%|██████████| 2/2 [00:00<00:00, 13.08it/s]"
     ]
    },
    {
     "name": "stdout",
     "output_type": "stream",
     "text": [
      "                   all         19         38      0.993        0.5      0.513        0.5\n"
     ]
    },
    {
     "name": "stderr",
     "output_type": "stream",
     "text": [
      "\n"
     ]
    },
    {
     "name": "stdout",
     "output_type": "stream",
     "text": [
      "\n",
      "      Epoch    GPU_mem   box_loss   cls_loss   dfl_loss  Instances       Size\n"
     ]
    },
    {
     "name": "stderr",
     "output_type": "stream",
     "text": [
      "      4/300      2.45G     0.3781      1.068     0.8879         27        768: 100%|██████████| 10/10 [00:01<00:00,  9.31it/s]\n",
      "                 Class     Images  Instances      Box(P          R      mAP50  mAP50-95): 100%|██████████| 2/2 [00:00<00:00, 16.42it/s]"
     ]
    },
    {
     "name": "stdout",
     "output_type": "stream",
     "text": [
      "                   all         19         38      0.998        0.5      0.975      0.875\n"
     ]
    },
    {
     "name": "stderr",
     "output_type": "stream",
     "text": [
      "\n"
     ]
    },
    {
     "name": "stdout",
     "output_type": "stream",
     "text": [
      "\n",
      "      Epoch    GPU_mem   box_loss   cls_loss   dfl_loss  Instances       Size\n"
     ]
    },
    {
     "name": "stderr",
     "output_type": "stream",
     "text": [
      "      5/300      2.45G     0.3685     0.8992     0.8663         21        768: 100%|██████████| 10/10 [00:01<00:00,  9.35it/s]\n",
      "                 Class     Images  Instances      Box(P          R      mAP50  mAP50-95): 100%|██████████| 2/2 [00:00<00:00, 16.51it/s]"
     ]
    },
    {
     "name": "stdout",
     "output_type": "stream",
     "text": [
      "                   all         19         38      0.982        0.5      0.995      0.919\n"
     ]
    },
    {
     "name": "stderr",
     "output_type": "stream",
     "text": [
      "\n"
     ]
    },
    {
     "name": "stdout",
     "output_type": "stream",
     "text": [
      "\n",
      "      Epoch    GPU_mem   box_loss   cls_loss   dfl_loss  Instances       Size\n"
     ]
    },
    {
     "name": "stderr",
     "output_type": "stream",
     "text": [
      "      6/300      2.45G     0.3987     0.8653     0.8664         22        768: 100%|██████████| 10/10 [00:01<00:00,  9.69it/s]\n",
      "                 Class     Images  Instances      Box(P          R      mAP50  mAP50-95): 100%|██████████| 2/2 [00:00<00:00, 13.53it/s]"
     ]
    },
    {
     "name": "stdout",
     "output_type": "stream",
     "text": [
      "                   all         19         38      0.984        0.5      0.995      0.909\n"
     ]
    },
    {
     "name": "stderr",
     "output_type": "stream",
     "text": [
      "\n"
     ]
    },
    {
     "name": "stdout",
     "output_type": "stream",
     "text": [
      "\n",
      "      Epoch    GPU_mem   box_loss   cls_loss   dfl_loss  Instances       Size\n"
     ]
    },
    {
     "name": "stderr",
     "output_type": "stream",
     "text": [
      "      7/300      2.45G     0.3776     0.8451     0.8684         20        768: 100%|██████████| 10/10 [00:00<00:00, 10.20it/s]\n",
      "                 Class     Images  Instances      Box(P          R      mAP50  mAP50-95): 100%|██████████| 2/2 [00:00<00:00, 16.57it/s]"
     ]
    },
    {
     "name": "stdout",
     "output_type": "stream",
     "text": [
      "                   all         19         38      0.981        0.5      0.995       0.95\n"
     ]
    },
    {
     "name": "stderr",
     "output_type": "stream",
     "text": [
      "\n"
     ]
    },
    {
     "name": "stdout",
     "output_type": "stream",
     "text": [
      "\n",
      "      Epoch    GPU_mem   box_loss   cls_loss   dfl_loss  Instances       Size\n"
     ]
    },
    {
     "name": "stderr",
     "output_type": "stream",
     "text": [
      "      8/300      2.45G     0.3876     0.7823     0.8724         29        768: 100%|██████████| 10/10 [00:01<00:00,  9.94it/s]\n",
      "                 Class     Images  Instances      Box(P          R      mAP50  mAP50-95): 100%|██████████| 2/2 [00:00<00:00, 18.58it/s]"
     ]
    },
    {
     "name": "stdout",
     "output_type": "stream",
     "text": [
      "                   all         19         38      0.977          1      0.995      0.921\n"
     ]
    },
    {
     "name": "stderr",
     "output_type": "stream",
     "text": [
      "\n"
     ]
    },
    {
     "name": "stdout",
     "output_type": "stream",
     "text": [
      "\n",
      "      Epoch    GPU_mem   box_loss   cls_loss   dfl_loss  Instances       Size\n"
     ]
    },
    {
     "name": "stderr",
     "output_type": "stream",
     "text": [
      "      9/300      2.46G     0.3967     0.8716     0.8891         14        768: 100%|██████████| 10/10 [00:00<00:00, 10.25it/s]\n",
      "                 Class     Images  Instances      Box(P          R      mAP50  mAP50-95): 100%|██████████| 2/2 [00:00<00:00, 17.01it/s]"
     ]
    },
    {
     "name": "stdout",
     "output_type": "stream",
     "text": [
      "                   all         19         38      0.977          1      0.995      0.922\n"
     ]
    },
    {
     "name": "stderr",
     "output_type": "stream",
     "text": [
      "\n"
     ]
    },
    {
     "name": "stdout",
     "output_type": "stream",
     "text": [
      "\n",
      "      Epoch    GPU_mem   box_loss   cls_loss   dfl_loss  Instances       Size\n"
     ]
    },
    {
     "name": "stderr",
     "output_type": "stream",
     "text": [
      "     10/300      2.46G     0.4389     0.8202     0.8907         30        768: 100%|██████████| 10/10 [00:01<00:00,  9.92it/s]\n",
      "                 Class     Images  Instances      Box(P          R      mAP50  mAP50-95): 100%|██████████| 2/2 [00:00<00:00, 18.26it/s]"
     ]
    },
    {
     "name": "stdout",
     "output_type": "stream",
     "text": [
      "                   all         19         38      0.976          1      0.995      0.909\n"
     ]
    },
    {
     "name": "stderr",
     "output_type": "stream",
     "text": [
      "\n"
     ]
    },
    {
     "name": "stdout",
     "output_type": "stream",
     "text": [
      "\n",
      "      Epoch    GPU_mem   box_loss   cls_loss   dfl_loss  Instances       Size\n"
     ]
    },
    {
     "name": "stderr",
     "output_type": "stream",
     "text": [
      "     11/300      2.46G     0.3743     0.7598     0.8632         22        768: 100%|██████████| 10/10 [00:00<00:00, 10.14it/s]\n",
      "                 Class     Images  Instances      Box(P          R      mAP50  mAP50-95): 100%|██████████| 2/2 [00:00<00:00, 17.66it/s]"
     ]
    },
    {
     "name": "stdout",
     "output_type": "stream",
     "text": [
      "                   all         19         38      0.982          1      0.995      0.954\n"
     ]
    },
    {
     "name": "stderr",
     "output_type": "stream",
     "text": [
      "\n"
     ]
    },
    {
     "name": "stdout",
     "output_type": "stream",
     "text": [
      "\n",
      "      Epoch    GPU_mem   box_loss   cls_loss   dfl_loss  Instances       Size\n"
     ]
    },
    {
     "name": "stderr",
     "output_type": "stream",
     "text": [
      "     12/300      2.46G     0.3862     0.7386     0.8851         23        768: 100%|██████████| 10/10 [00:00<00:00, 10.40it/s]\n",
      "                 Class     Images  Instances      Box(P          R      mAP50  mAP50-95): 100%|██████████| 2/2 [00:00<00:00, 14.91it/s]"
     ]
    },
    {
     "name": "stdout",
     "output_type": "stream",
     "text": [
      "                   all         19         38      0.991          1      0.995      0.934\n"
     ]
    },
    {
     "name": "stderr",
     "output_type": "stream",
     "text": [
      "\n"
     ]
    },
    {
     "name": "stdout",
     "output_type": "stream",
     "text": [
      "\n",
      "      Epoch    GPU_mem   box_loss   cls_loss   dfl_loss  Instances       Size\n"
     ]
    },
    {
     "name": "stderr",
     "output_type": "stream",
     "text": [
      "     13/300      2.46G     0.3789      0.728     0.8919         16        768: 100%|██████████| 10/10 [00:00<00:00, 10.17it/s]\n",
      "                 Class     Images  Instances      Box(P          R      mAP50  mAP50-95): 100%|██████████| 2/2 [00:00<00:00, 18.12it/s]"
     ]
    },
    {
     "name": "stdout",
     "output_type": "stream",
     "text": [
      "                   all         19         38      0.992          1      0.995       0.94\n"
     ]
    },
    {
     "name": "stderr",
     "output_type": "stream",
     "text": [
      "\n"
     ]
    },
    {
     "name": "stdout",
     "output_type": "stream",
     "text": [
      "\n",
      "      Epoch    GPU_mem   box_loss   cls_loss   dfl_loss  Instances       Size\n"
     ]
    },
    {
     "name": "stderr",
     "output_type": "stream",
     "text": [
      "     14/300      2.46G     0.3237     0.7251     0.8519         23        768: 100%|██████████| 10/10 [00:01<00:00,  9.57it/s]\n",
      "                 Class     Images  Instances      Box(P          R      mAP50  mAP50-95): 100%|██████████| 2/2 [00:00<00:00, 17.75it/s]"
     ]
    },
    {
     "name": "stdout",
     "output_type": "stream",
     "text": [
      "                   all         19         38       0.99          1      0.995      0.962\n"
     ]
    },
    {
     "name": "stderr",
     "output_type": "stream",
     "text": [
      "\n"
     ]
    },
    {
     "name": "stdout",
     "output_type": "stream",
     "text": [
      "\n",
      "      Epoch    GPU_mem   box_loss   cls_loss   dfl_loss  Instances       Size\n"
     ]
    },
    {
     "name": "stderr",
     "output_type": "stream",
     "text": [
      "     15/300      2.46G     0.3234     0.6818     0.8664         35        768: 100%|██████████| 10/10 [00:00<00:00, 10.14it/s]\n",
      "                 Class     Images  Instances      Box(P          R      mAP50  mAP50-95): 100%|██████████| 2/2 [00:00<00:00, 18.30it/s]"
     ]
    },
    {
     "name": "stdout",
     "output_type": "stream",
     "text": [
      "                   all         19         38      0.997          1      0.995      0.965\n"
     ]
    },
    {
     "name": "stderr",
     "output_type": "stream",
     "text": [
      "\n"
     ]
    },
    {
     "name": "stdout",
     "output_type": "stream",
     "text": [
      "\n",
      "      Epoch    GPU_mem   box_loss   cls_loss   dfl_loss  Instances       Size\n"
     ]
    },
    {
     "name": "stderr",
     "output_type": "stream",
     "text": [
      "     16/300      2.46G     0.3339     0.6439     0.8626         22        768: 100%|██████████| 10/10 [00:00<00:00, 10.78it/s]\n",
      "                 Class     Images  Instances      Box(P          R      mAP50  mAP50-95): 100%|██████████| 2/2 [00:00<00:00, 20.20it/s]"
     ]
    },
    {
     "name": "stdout",
     "output_type": "stream",
     "text": [
      "                   all         19         38      0.997          1      0.995      0.989\n"
     ]
    },
    {
     "name": "stderr",
     "output_type": "stream",
     "text": [
      "\n"
     ]
    },
    {
     "name": "stdout",
     "output_type": "stream",
     "text": [
      "\n",
      "      Epoch    GPU_mem   box_loss   cls_loss   dfl_loss  Instances       Size\n"
     ]
    },
    {
     "name": "stderr",
     "output_type": "stream",
     "text": [
      "     17/300      2.46G     0.3159     0.6145     0.8554         25        768: 100%|██████████| 10/10 [00:00<00:00, 10.50it/s]\n",
      "                 Class     Images  Instances      Box(P          R      mAP50  mAP50-95): 100%|██████████| 2/2 [00:00<00:00, 19.56it/s]"
     ]
    },
    {
     "name": "stdout",
     "output_type": "stream",
     "text": [
      "                   all         19         38      0.996          1      0.995      0.963\n"
     ]
    },
    {
     "name": "stderr",
     "output_type": "stream",
     "text": [
      "\n"
     ]
    },
    {
     "name": "stdout",
     "output_type": "stream",
     "text": [
      "\n",
      "      Epoch    GPU_mem   box_loss   cls_loss   dfl_loss  Instances       Size\n"
     ]
    },
    {
     "name": "stderr",
     "output_type": "stream",
     "text": [
      "     18/300      2.46G     0.2898     0.6296     0.8526         36        768: 100%|██████████| 10/10 [00:01<00:00,  9.86it/s]\n",
      "                 Class     Images  Instances      Box(P          R      mAP50  mAP50-95): 100%|██████████| 2/2 [00:00<00:00, 19.52it/s]"
     ]
    },
    {
     "name": "stdout",
     "output_type": "stream",
     "text": [
      "                   all         19         38      0.995          1      0.995      0.978\n"
     ]
    },
    {
     "name": "stderr",
     "output_type": "stream",
     "text": [
      "\n"
     ]
    },
    {
     "name": "stdout",
     "output_type": "stream",
     "text": [
      "\n",
      "      Epoch    GPU_mem   box_loss   cls_loss   dfl_loss  Instances       Size\n"
     ]
    },
    {
     "name": "stderr",
     "output_type": "stream",
     "text": [
      "     19/300      2.46G       0.31     0.5982      0.857         15        768: 100%|██████████| 10/10 [00:00<00:00, 10.40it/s]\n",
      "                 Class     Images  Instances      Box(P          R      mAP50  mAP50-95): 100%|██████████| 2/2 [00:00<00:00, 19.85it/s]"
     ]
    },
    {
     "name": "stdout",
     "output_type": "stream",
     "text": [
      "                   all         19         38      0.996          1      0.995      0.981\n"
     ]
    },
    {
     "name": "stderr",
     "output_type": "stream",
     "text": [
      "\n"
     ]
    },
    {
     "name": "stdout",
     "output_type": "stream",
     "text": [
      "\n",
      "      Epoch    GPU_mem   box_loss   cls_loss   dfl_loss  Instances       Size\n"
     ]
    },
    {
     "name": "stderr",
     "output_type": "stream",
     "text": [
      "     20/300      2.46G     0.3075     0.5988     0.8562         24        768: 100%|██████████| 10/10 [00:00<00:00, 10.25it/s]\n",
      "                 Class     Images  Instances      Box(P          R      mAP50  mAP50-95): 100%|██████████| 2/2 [00:00<00:00, 19.16it/s]"
     ]
    },
    {
     "name": "stdout",
     "output_type": "stream",
     "text": [
      "                   all         19         38      0.996          1      0.995      0.992\n"
     ]
    },
    {
     "name": "stderr",
     "output_type": "stream",
     "text": [
      "\n"
     ]
    },
    {
     "name": "stdout",
     "output_type": "stream",
     "text": [
      "\n",
      "      Epoch    GPU_mem   box_loss   cls_loss   dfl_loss  Instances       Size\n"
     ]
    },
    {
     "name": "stderr",
     "output_type": "stream",
     "text": [
      "     21/300      2.46G     0.3001     0.5635     0.8381         17        768: 100%|██████████| 10/10 [00:00<00:00, 10.28it/s]\n",
      "                 Class     Images  Instances      Box(P          R      mAP50  mAP50-95): 100%|██████████| 2/2 [00:00<00:00, 18.72it/s]"
     ]
    },
    {
     "name": "stdout",
     "output_type": "stream",
     "text": [
      "                   all         19         38      0.996          1      0.995      0.963\n"
     ]
    },
    {
     "name": "stderr",
     "output_type": "stream",
     "text": [
      "\n"
     ]
    },
    {
     "name": "stdout",
     "output_type": "stream",
     "text": [
      "\n",
      "      Epoch    GPU_mem   box_loss   cls_loss   dfl_loss  Instances       Size\n"
     ]
    },
    {
     "name": "stderr",
     "output_type": "stream",
     "text": [
      "     22/300      2.46G     0.2726     0.5643     0.8375         14        768: 100%|██████████| 10/10 [00:01<00:00,  9.53it/s]\n",
      "                 Class     Images  Instances      Box(P          R      mAP50  mAP50-95): 100%|██████████| 2/2 [00:00<00:00, 18.44it/s]"
     ]
    },
    {
     "name": "stdout",
     "output_type": "stream",
     "text": [
      "                   all         19         38      0.993          1      0.995      0.975\n"
     ]
    },
    {
     "name": "stderr",
     "output_type": "stream",
     "text": [
      "\n"
     ]
    },
    {
     "name": "stdout",
     "output_type": "stream",
     "text": [
      "\n",
      "      Epoch    GPU_mem   box_loss   cls_loss   dfl_loss  Instances       Size\n"
     ]
    },
    {
     "name": "stderr",
     "output_type": "stream",
     "text": [
      "     23/300      2.46G     0.2893     0.5319     0.8358         22        768: 100%|██████████| 10/10 [00:00<00:00, 10.19it/s]\n",
      "                 Class     Images  Instances      Box(P          R      mAP50  mAP50-95): 100%|██████████| 2/2 [00:00<00:00, 19.38it/s]"
     ]
    },
    {
     "name": "stdout",
     "output_type": "stream",
     "text": [
      "                   all         19         38      0.992          1      0.995      0.995\n"
     ]
    },
    {
     "name": "stderr",
     "output_type": "stream",
     "text": [
      "\n"
     ]
    },
    {
     "name": "stdout",
     "output_type": "stream",
     "text": [
      "\n",
      "      Epoch    GPU_mem   box_loss   cls_loss   dfl_loss  Instances       Size\n"
     ]
    },
    {
     "name": "stderr",
     "output_type": "stream",
     "text": [
      "     24/300      2.46G     0.2903      0.547     0.8606         20        768: 100%|██████████| 10/10 [00:00<00:00, 10.26it/s]\n",
      "                 Class     Images  Instances      Box(P          R      mAP50  mAP50-95): 100%|██████████| 2/2 [00:00<00:00, 17.63it/s]"
     ]
    },
    {
     "name": "stdout",
     "output_type": "stream",
     "text": [
      "                   all         19         38      0.994          1      0.995      0.962\n"
     ]
    },
    {
     "name": "stderr",
     "output_type": "stream",
     "text": [
      "\n"
     ]
    },
    {
     "name": "stdout",
     "output_type": "stream",
     "text": [
      "\n",
      "      Epoch    GPU_mem   box_loss   cls_loss   dfl_loss  Instances       Size\n"
     ]
    },
    {
     "name": "stderr",
     "output_type": "stream",
     "text": [
      "     25/300      2.46G     0.3347     0.5625     0.8727         33        768: 100%|██████████| 10/10 [00:00<00:00, 10.35it/s]\n",
      "                 Class     Images  Instances      Box(P          R      mAP50  mAP50-95): 100%|██████████| 2/2 [00:00<00:00, 19.09it/s]"
     ]
    },
    {
     "name": "stdout",
     "output_type": "stream",
     "text": [
      "                   all         19         38      0.994          1      0.995      0.988\n"
     ]
    },
    {
     "name": "stderr",
     "output_type": "stream",
     "text": [
      "\n"
     ]
    },
    {
     "name": "stdout",
     "output_type": "stream",
     "text": [
      "\n",
      "      Epoch    GPU_mem   box_loss   cls_loss   dfl_loss  Instances       Size\n"
     ]
    },
    {
     "name": "stderr",
     "output_type": "stream",
     "text": [
      "     26/300      2.46G     0.2846     0.4959     0.8475         26        768: 100%|██████████| 10/10 [00:01<00:00, 10.00it/s]\n",
      "                 Class     Images  Instances      Box(P          R      mAP50  mAP50-95): 100%|██████████| 2/2 [00:00<00:00, 19.30it/s]"
     ]
    },
    {
     "name": "stdout",
     "output_type": "stream",
     "text": [
      "                   all         19         38      0.996          1      0.995      0.995\n"
     ]
    },
    {
     "name": "stderr",
     "output_type": "stream",
     "text": [
      "\n"
     ]
    },
    {
     "name": "stdout",
     "output_type": "stream",
     "text": [
      "\n",
      "      Epoch    GPU_mem   box_loss   cls_loss   dfl_loss  Instances       Size\n"
     ]
    },
    {
     "name": "stderr",
     "output_type": "stream",
     "text": [
      "     27/300      2.46G      0.262     0.4831     0.8487         31        768: 100%|██████████| 10/10 [00:01<00:00,  9.97it/s]\n",
      "                 Class     Images  Instances      Box(P          R      mAP50  mAP50-95): 100%|██████████| 2/2 [00:00<00:00, 18.70it/s]"
     ]
    },
    {
     "name": "stdout",
     "output_type": "stream",
     "text": [
      "                   all         19         38      0.997          1      0.995      0.968\n"
     ]
    },
    {
     "name": "stderr",
     "output_type": "stream",
     "text": [
      "\n"
     ]
    },
    {
     "name": "stdout",
     "output_type": "stream",
     "text": [
      "\n",
      "      Epoch    GPU_mem   box_loss   cls_loss   dfl_loss  Instances       Size\n"
     ]
    },
    {
     "name": "stderr",
     "output_type": "stream",
     "text": [
      "     28/300      2.46G     0.3064     0.5093     0.8594         19        768: 100%|██████████| 10/10 [00:00<00:00, 10.02it/s]\n",
      "                 Class     Images  Instances      Box(P          R      mAP50  mAP50-95): 100%|██████████| 2/2 [00:00<00:00, 18.99it/s]"
     ]
    },
    {
     "name": "stdout",
     "output_type": "stream",
     "text": [
      "                   all         19         38      0.996          1      0.995       0.98\n"
     ]
    },
    {
     "name": "stderr",
     "output_type": "stream",
     "text": [
      "\n"
     ]
    },
    {
     "name": "stdout",
     "output_type": "stream",
     "text": [
      "\n",
      "      Epoch    GPU_mem   box_loss   cls_loss   dfl_loss  Instances       Size\n"
     ]
    },
    {
     "name": "stderr",
     "output_type": "stream",
     "text": [
      "     29/300      2.46G     0.2676     0.4932     0.8492         16        768: 100%|██████████| 10/10 [00:00<00:00, 10.17it/s]\n",
      "                 Class     Images  Instances      Box(P          R      mAP50  mAP50-95): 100%|██████████| 2/2 [00:00<00:00, 19.78it/s]"
     ]
    },
    {
     "name": "stdout",
     "output_type": "stream",
     "text": [
      "                   all         19         38      0.994          1      0.995      0.995\n"
     ]
    },
    {
     "name": "stderr",
     "output_type": "stream",
     "text": [
      "\n"
     ]
    },
    {
     "name": "stdout",
     "output_type": "stream",
     "text": [
      "\n",
      "      Epoch    GPU_mem   box_loss   cls_loss   dfl_loss  Instances       Size\n"
     ]
    },
    {
     "name": "stderr",
     "output_type": "stream",
     "text": [
      "     30/300      2.46G     0.2622     0.4766     0.8419         24        768: 100%|██████████| 10/10 [00:01<00:00,  9.77it/s]\n",
      "                 Class     Images  Instances      Box(P          R      mAP50  mAP50-95): 100%|██████████| 2/2 [00:00<00:00, 17.92it/s]"
     ]
    },
    {
     "name": "stdout",
     "output_type": "stream",
     "text": [
      "                   all         19         38      0.997          1      0.995      0.991\n"
     ]
    },
    {
     "name": "stderr",
     "output_type": "stream",
     "text": [
      "\n"
     ]
    },
    {
     "name": "stdout",
     "output_type": "stream",
     "text": [
      "\n",
      "      Epoch    GPU_mem   box_loss   cls_loss   dfl_loss  Instances       Size\n"
     ]
    },
    {
     "name": "stderr",
     "output_type": "stream",
     "text": [
      "     31/300      2.46G      0.246      0.443     0.8096         16        768: 100%|██████████| 10/10 [00:00<00:00, 10.33it/s]\n",
      "                 Class     Images  Instances      Box(P          R      mAP50  mAP50-95): 100%|██████████| 2/2 [00:00<00:00, 17.87it/s]"
     ]
    },
    {
     "name": "stdout",
     "output_type": "stream",
     "text": [
      "                   all         19         38      0.997          1      0.995      0.995\n"
     ]
    },
    {
     "name": "stderr",
     "output_type": "stream",
     "text": [
      "\n"
     ]
    },
    {
     "name": "stdout",
     "output_type": "stream",
     "text": [
      "\n",
      "      Epoch    GPU_mem   box_loss   cls_loss   dfl_loss  Instances       Size\n"
     ]
    },
    {
     "name": "stderr",
     "output_type": "stream",
     "text": [
      "     32/300      2.46G     0.2819     0.4545     0.8541         27        768: 100%|██████████| 10/10 [00:00<00:00, 10.42it/s]\n",
      "                 Class     Images  Instances      Box(P          R      mAP50  mAP50-95): 100%|██████████| 2/2 [00:00<00:00, 19.44it/s]"
     ]
    },
    {
     "name": "stdout",
     "output_type": "stream",
     "text": [
      "                   all         19         38      0.997          1      0.995      0.992\n"
     ]
    },
    {
     "name": "stderr",
     "output_type": "stream",
     "text": [
      "\n"
     ]
    },
    {
     "name": "stdout",
     "output_type": "stream",
     "text": [
      "\n",
      "      Epoch    GPU_mem   box_loss   cls_loss   dfl_loss  Instances       Size\n"
     ]
    },
    {
     "name": "stderr",
     "output_type": "stream",
     "text": [
      "     33/300      2.46G     0.2684     0.4111     0.8411         18        768: 100%|██████████| 10/10 [00:00<00:00, 10.37it/s]\n",
      "                 Class     Images  Instances      Box(P          R      mAP50  mAP50-95): 100%|██████████| 2/2 [00:00<00:00, 20.55it/s]"
     ]
    },
    {
     "name": "stdout",
     "output_type": "stream",
     "text": [
      "                   all         19         38      0.996          1      0.995      0.992\n"
     ]
    },
    {
     "name": "stderr",
     "output_type": "stream",
     "text": [
      "\n"
     ]
    },
    {
     "name": "stdout",
     "output_type": "stream",
     "text": [
      "\n",
      "      Epoch    GPU_mem   box_loss   cls_loss   dfl_loss  Instances       Size\n"
     ]
    },
    {
     "name": "stderr",
     "output_type": "stream",
     "text": [
      "     34/300      2.46G     0.2615     0.4339     0.8473         18        768: 100%|██████████| 10/10 [00:00<00:00, 10.09it/s]\n",
      "                 Class     Images  Instances      Box(P          R      mAP50  mAP50-95): 100%|██████████| 2/2 [00:00<00:00, 19.02it/s]"
     ]
    },
    {
     "name": "stdout",
     "output_type": "stream",
     "text": [
      "                   all         19         38      0.996          1      0.995      0.974\n"
     ]
    },
    {
     "name": "stderr",
     "output_type": "stream",
     "text": [
      "\n"
     ]
    },
    {
     "name": "stdout",
     "output_type": "stream",
     "text": [
      "\n",
      "      Epoch    GPU_mem   box_loss   cls_loss   dfl_loss  Instances       Size\n"
     ]
    },
    {
     "name": "stderr",
     "output_type": "stream",
     "text": [
      "     35/300      2.46G     0.2607     0.4208     0.8402         24        768: 100%|██████████| 10/10 [00:00<00:00, 10.19it/s]\n",
      "                 Class     Images  Instances      Box(P          R      mAP50  mAP50-95): 100%|██████████| 2/2 [00:00<00:00, 20.07it/s]"
     ]
    },
    {
     "name": "stdout",
     "output_type": "stream",
     "text": [
      "                   all         19         38      0.997          1      0.995      0.991\n"
     ]
    },
    {
     "name": "stderr",
     "output_type": "stream",
     "text": [
      "\n"
     ]
    },
    {
     "name": "stdout",
     "output_type": "stream",
     "text": [
      "\n",
      "      Epoch    GPU_mem   box_loss   cls_loss   dfl_loss  Instances       Size\n"
     ]
    },
    {
     "name": "stderr",
     "output_type": "stream",
     "text": [
      "     36/300      2.46G     0.2547      0.429     0.8511         24        768: 100%|██████████| 10/10 [00:00<00:00, 10.31it/s]\n",
      "                 Class     Images  Instances      Box(P          R      mAP50  mAP50-95): 100%|██████████| 2/2 [00:00<00:00, 19.76it/s]"
     ]
    },
    {
     "name": "stdout",
     "output_type": "stream",
     "text": [
      "                   all         19         38      0.997          1      0.995      0.995\n"
     ]
    },
    {
     "name": "stderr",
     "output_type": "stream",
     "text": [
      "\n"
     ]
    },
    {
     "name": "stdout",
     "output_type": "stream",
     "text": [
      "\n",
      "      Epoch    GPU_mem   box_loss   cls_loss   dfl_loss  Instances       Size\n"
     ]
    },
    {
     "name": "stderr",
     "output_type": "stream",
     "text": [
      "     37/300      2.46G     0.2308     0.4207     0.8398         16        768: 100%|██████████| 10/10 [00:00<00:00, 10.10it/s]\n",
      "                 Class     Images  Instances      Box(P          R      mAP50  mAP50-95): 100%|██████████| 2/2 [00:00<00:00, 17.56it/s]"
     ]
    },
    {
     "name": "stdout",
     "output_type": "stream",
     "text": [
      "                   all         19         38      0.996          1      0.995      0.992\n"
     ]
    },
    {
     "name": "stderr",
     "output_type": "stream",
     "text": [
      "\n"
     ]
    },
    {
     "name": "stdout",
     "output_type": "stream",
     "text": [
      "\n",
      "      Epoch    GPU_mem   box_loss   cls_loss   dfl_loss  Instances       Size\n"
     ]
    },
    {
     "name": "stderr",
     "output_type": "stream",
     "text": [
      "     38/300      2.46G      0.243     0.3783     0.8196         13        768: 100%|██████████| 10/10 [00:01<00:00,  9.27it/s]\n",
      "                 Class     Images  Instances      Box(P          R      mAP50  mAP50-95): 100%|██████████| 2/2 [00:00<00:00, 20.49it/s]"
     ]
    },
    {
     "name": "stdout",
     "output_type": "stream",
     "text": [
      "                   all         19         38      0.997          1      0.995      0.995\n"
     ]
    },
    {
     "name": "stderr",
     "output_type": "stream",
     "text": [
      "\n"
     ]
    },
    {
     "name": "stdout",
     "output_type": "stream",
     "text": [
      "\n",
      "      Epoch    GPU_mem   box_loss   cls_loss   dfl_loss  Instances       Size\n"
     ]
    },
    {
     "name": "stderr",
     "output_type": "stream",
     "text": [
      "     39/300      2.46G     0.2355     0.3663     0.8192         29        768: 100%|██████████| 10/10 [00:01<00:00,  9.80it/s]\n",
      "                 Class     Images  Instances      Box(P          R      mAP50  mAP50-95): 100%|██████████| 2/2 [00:00<00:00, 18.27it/s]"
     ]
    },
    {
     "name": "stdout",
     "output_type": "stream",
     "text": [
      "                   all         19         38      0.997          1      0.995      0.995\n"
     ]
    },
    {
     "name": "stderr",
     "output_type": "stream",
     "text": [
      "\n"
     ]
    },
    {
     "name": "stdout",
     "output_type": "stream",
     "text": [
      "\n",
      "      Epoch    GPU_mem   box_loss   cls_loss   dfl_loss  Instances       Size\n"
     ]
    },
    {
     "name": "stderr",
     "output_type": "stream",
     "text": [
      "     40/300      2.46G     0.2253     0.3826     0.7992         17        768: 100%|██████████| 10/10 [00:00<00:00, 10.21it/s]\n",
      "                 Class     Images  Instances      Box(P          R      mAP50  mAP50-95): 100%|██████████| 2/2 [00:00<00:00, 21.14it/s]"
     ]
    },
    {
     "name": "stdout",
     "output_type": "stream",
     "text": [
      "                   all         19         38      0.996          1      0.995      0.995\n"
     ]
    },
    {
     "name": "stderr",
     "output_type": "stream",
     "text": [
      "\n"
     ]
    },
    {
     "name": "stdout",
     "output_type": "stream",
     "text": [
      "\n",
      "      Epoch    GPU_mem   box_loss   cls_loss   dfl_loss  Instances       Size\n"
     ]
    },
    {
     "name": "stderr",
     "output_type": "stream",
     "text": [
      "     41/300      2.46G     0.2495     0.3733     0.8189         23        768: 100%|██████████| 10/10 [00:00<00:00, 10.09it/s]\n",
      "                 Class     Images  Instances      Box(P          R      mAP50  mAP50-95): 100%|██████████| 2/2 [00:00<00:00, 20.18it/s]"
     ]
    },
    {
     "name": "stdout",
     "output_type": "stream",
     "text": [
      "                   all         19         38      0.995          1      0.995      0.995\n"
     ]
    },
    {
     "name": "stderr",
     "output_type": "stream",
     "text": [
      "\n"
     ]
    },
    {
     "name": "stdout",
     "output_type": "stream",
     "text": [
      "\n",
      "      Epoch    GPU_mem   box_loss   cls_loss   dfl_loss  Instances       Size\n"
     ]
    },
    {
     "name": "stderr",
     "output_type": "stream",
     "text": [
      "     42/300      2.46G     0.2412     0.3917     0.8385         25        768: 100%|██████████| 10/10 [00:01<00:00,  9.76it/s]\n",
      "                 Class     Images  Instances      Box(P          R      mAP50  mAP50-95): 100%|██████████| 2/2 [00:00<00:00, 19.41it/s]"
     ]
    },
    {
     "name": "stdout",
     "output_type": "stream",
     "text": [
      "                   all         19         38      0.997          1      0.995      0.985\n"
     ]
    },
    {
     "name": "stderr",
     "output_type": "stream",
     "text": [
      "\n"
     ]
    },
    {
     "name": "stdout",
     "output_type": "stream",
     "text": [
      "\n",
      "      Epoch    GPU_mem   box_loss   cls_loss   dfl_loss  Instances       Size\n"
     ]
    },
    {
     "name": "stderr",
     "output_type": "stream",
     "text": [
      "     43/300      2.46G     0.2505     0.4091      0.842         26        768: 100%|██████████| 10/10 [00:00<00:00, 10.24it/s]\n",
      "                 Class     Images  Instances      Box(P          R      mAP50  mAP50-95): 100%|██████████| 2/2 [00:00<00:00, 18.31it/s]"
     ]
    },
    {
     "name": "stdout",
     "output_type": "stream",
     "text": [
      "                   all         19         38      0.997          1      0.995       0.99\n"
     ]
    },
    {
     "name": "stderr",
     "output_type": "stream",
     "text": [
      "\n"
     ]
    },
    {
     "name": "stdout",
     "output_type": "stream",
     "text": [
      "\n",
      "      Epoch    GPU_mem   box_loss   cls_loss   dfl_loss  Instances       Size\n"
     ]
    },
    {
     "name": "stderr",
     "output_type": "stream",
     "text": [
      "     44/300      2.46G     0.2504     0.3864     0.8207         19        768: 100%|██████████| 10/10 [00:01<00:00,  9.80it/s]\n",
      "                 Class     Images  Instances      Box(P          R      mAP50  mAP50-95): 100%|██████████| 2/2 [00:00<00:00, 17.86it/s]"
     ]
    },
    {
     "name": "stdout",
     "output_type": "stream",
     "text": [
      "                   all         19         38      0.997          1      0.995      0.991\n"
     ]
    },
    {
     "name": "stderr",
     "output_type": "stream",
     "text": [
      "\n"
     ]
    },
    {
     "name": "stdout",
     "output_type": "stream",
     "text": [
      "\n",
      "      Epoch    GPU_mem   box_loss   cls_loss   dfl_loss  Instances       Size\n"
     ]
    },
    {
     "name": "stderr",
     "output_type": "stream",
     "text": [
      "     45/300      2.46G     0.2488     0.3722     0.8361         33        768: 100%|██████████| 10/10 [00:00<00:00, 10.23it/s]\n",
      "                 Class     Images  Instances      Box(P          R      mAP50  mAP50-95): 100%|██████████| 2/2 [00:00<00:00, 20.00it/s]"
     ]
    },
    {
     "name": "stdout",
     "output_type": "stream",
     "text": [
      "                   all         19         38      0.997          1      0.995      0.995\n"
     ]
    },
    {
     "name": "stderr",
     "output_type": "stream",
     "text": [
      "\n"
     ]
    },
    {
     "name": "stdout",
     "output_type": "stream",
     "text": [
      "\n",
      "      Epoch    GPU_mem   box_loss   cls_loss   dfl_loss  Instances       Size\n"
     ]
    },
    {
     "name": "stderr",
     "output_type": "stream",
     "text": [
      "     46/300      2.46G     0.2415     0.3737     0.8297         21        768: 100%|██████████| 10/10 [00:01<00:00,  9.39it/s]\n",
      "                 Class     Images  Instances      Box(P          R      mAP50  mAP50-95): 100%|██████████| 2/2 [00:00<00:00, 19.40it/s]"
     ]
    },
    {
     "name": "stdout",
     "output_type": "stream",
     "text": [
      "                   all         19         38      0.996          1      0.995      0.995\n"
     ]
    },
    {
     "name": "stderr",
     "output_type": "stream",
     "text": [
      "\n"
     ]
    },
    {
     "name": "stdout",
     "output_type": "stream",
     "text": [
      "\n",
      "      Epoch    GPU_mem   box_loss   cls_loss   dfl_loss  Instances       Size\n"
     ]
    },
    {
     "name": "stderr",
     "output_type": "stream",
     "text": [
      "     47/300      2.46G     0.2523     0.3505      0.827         24        768: 100%|██████████| 10/10 [00:01<00:00, 10.00it/s]\n",
      "                 Class     Images  Instances      Box(P          R      mAP50  mAP50-95): 100%|██████████| 2/2 [00:00<00:00, 18.23it/s]"
     ]
    },
    {
     "name": "stdout",
     "output_type": "stream",
     "text": [
      "                   all         19         38      0.996          1      0.995      0.995\n"
     ]
    },
    {
     "name": "stderr",
     "output_type": "stream",
     "text": [
      "\n"
     ]
    },
    {
     "name": "stdout",
     "output_type": "stream",
     "text": [
      "\n",
      "      Epoch    GPU_mem   box_loss   cls_loss   dfl_loss  Instances       Size\n"
     ]
    },
    {
     "name": "stderr",
     "output_type": "stream",
     "text": [
      "     48/300      2.46G     0.2536     0.3751     0.8349         20        768: 100%|██████████| 10/10 [00:00<00:00, 10.50it/s]\n",
      "                 Class     Images  Instances      Box(P          R      mAP50  mAP50-95): 100%|██████████| 2/2 [00:00<00:00, 19.08it/s]"
     ]
    },
    {
     "name": "stdout",
     "output_type": "stream",
     "text": [
      "                   all         19         38      0.996          1      0.995      0.995\n"
     ]
    },
    {
     "name": "stderr",
     "output_type": "stream",
     "text": [
      "\n"
     ]
    },
    {
     "name": "stdout",
     "output_type": "stream",
     "text": [
      "\n",
      "      Epoch    GPU_mem   box_loss   cls_loss   dfl_loss  Instances       Size\n"
     ]
    },
    {
     "name": "stderr",
     "output_type": "stream",
     "text": [
      "     49/300      2.46G      0.248     0.3671     0.8348         15        768: 100%|██████████| 10/10 [00:00<00:00, 10.35it/s]\n",
      "                 Class     Images  Instances      Box(P          R      mAP50  mAP50-95): 100%|██████████| 2/2 [00:00<00:00, 19.31it/s]"
     ]
    },
    {
     "name": "stdout",
     "output_type": "stream",
     "text": [
      "                   all         19         38      0.996          1      0.995      0.995\n"
     ]
    },
    {
     "name": "stderr",
     "output_type": "stream",
     "text": [
      "\n"
     ]
    },
    {
     "name": "stdout",
     "output_type": "stream",
     "text": [
      "\n",
      "      Epoch    GPU_mem   box_loss   cls_loss   dfl_loss  Instances       Size\n"
     ]
    },
    {
     "name": "stderr",
     "output_type": "stream",
     "text": [
      "     50/300      2.46G     0.2546     0.3461     0.8378         23        768: 100%|██████████| 10/10 [00:01<00:00,  9.55it/s]\n",
      "                 Class     Images  Instances      Box(P          R      mAP50  mAP50-95): 100%|██████████| 2/2 [00:00<00:00, 19.41it/s]"
     ]
    },
    {
     "name": "stdout",
     "output_type": "stream",
     "text": [
      "                   all         19         38      0.996          1      0.995      0.986\n"
     ]
    },
    {
     "name": "stderr",
     "output_type": "stream",
     "text": [
      "\n"
     ]
    },
    {
     "name": "stdout",
     "output_type": "stream",
     "text": [
      "\n",
      "      Epoch    GPU_mem   box_loss   cls_loss   dfl_loss  Instances       Size\n"
     ]
    },
    {
     "name": "stderr",
     "output_type": "stream",
     "text": [
      "     51/300      2.46G      0.244     0.3375     0.8305         30        768: 100%|██████████| 10/10 [00:00<00:00, 10.11it/s]\n",
      "                 Class     Images  Instances      Box(P          R      mAP50  mAP50-95): 100%|██████████| 2/2 [00:00<00:00, 19.56it/s]"
     ]
    },
    {
     "name": "stdout",
     "output_type": "stream",
     "text": [
      "                   all         19         38      0.996          1      0.995      0.986\n"
     ]
    },
    {
     "name": "stderr",
     "output_type": "stream",
     "text": [
      "\n"
     ]
    },
    {
     "name": "stdout",
     "output_type": "stream",
     "text": [
      "\n",
      "      Epoch    GPU_mem   box_loss   cls_loss   dfl_loss  Instances       Size\n"
     ]
    },
    {
     "name": "stderr",
     "output_type": "stream",
     "text": [
      "     52/300      2.46G     0.2266     0.3203     0.8392         22        768: 100%|██████████| 10/10 [00:01<00:00,  9.77it/s]\n",
      "                 Class     Images  Instances      Box(P          R      mAP50  mAP50-95): 100%|██████████| 2/2 [00:00<00:00, 20.15it/s]"
     ]
    },
    {
     "name": "stdout",
     "output_type": "stream",
     "text": [
      "                   all         19         38      0.997          1      0.995      0.992\n"
     ]
    },
    {
     "name": "stderr",
     "output_type": "stream",
     "text": [
      "\n"
     ]
    },
    {
     "name": "stdout",
     "output_type": "stream",
     "text": [
      "\n",
      "      Epoch    GPU_mem   box_loss   cls_loss   dfl_loss  Instances       Size\n"
     ]
    },
    {
     "name": "stderr",
     "output_type": "stream",
     "text": [
      "     53/300      2.46G       0.24     0.3413     0.8527         14        768: 100%|██████████| 10/10 [00:00<00:00, 10.21it/s]\n",
      "                 Class     Images  Instances      Box(P          R      mAP50  mAP50-95): 100%|██████████| 2/2 [00:00<00:00, 20.35it/s]"
     ]
    },
    {
     "name": "stdout",
     "output_type": "stream",
     "text": [
      "                   all         19         38      0.996          1      0.995      0.992\n"
     ]
    },
    {
     "name": "stderr",
     "output_type": "stream",
     "text": [
      "\n"
     ]
    },
    {
     "name": "stdout",
     "output_type": "stream",
     "text": [
      "\n",
      "      Epoch    GPU_mem   box_loss   cls_loss   dfl_loss  Instances       Size\n"
     ]
    },
    {
     "name": "stderr",
     "output_type": "stream",
     "text": [
      "     54/300      2.46G     0.2265     0.3343     0.8428         24        768: 100%|██████████| 10/10 [00:01<00:00,  9.85it/s]\n",
      "                 Class     Images  Instances      Box(P          R      mAP50  mAP50-95): 100%|██████████| 2/2 [00:00<00:00, 17.82it/s]"
     ]
    },
    {
     "name": "stdout",
     "output_type": "stream",
     "text": [
      "                   all         19         38      0.996          1      0.995      0.992\n"
     ]
    },
    {
     "name": "stderr",
     "output_type": "stream",
     "text": [
      "\n"
     ]
    },
    {
     "name": "stdout",
     "output_type": "stream",
     "text": [
      "\n",
      "      Epoch    GPU_mem   box_loss   cls_loss   dfl_loss  Instances       Size\n"
     ]
    },
    {
     "name": "stderr",
     "output_type": "stream",
     "text": [
      "     55/300      2.46G     0.2257     0.3012     0.8065         21        768: 100%|██████████| 10/10 [00:01<00:00,  9.83it/s]\n",
      "                 Class     Images  Instances      Box(P          R      mAP50  mAP50-95): 100%|██████████| 2/2 [00:00<00:00, 19.54it/s]"
     ]
    },
    {
     "name": "stdout",
     "output_type": "stream",
     "text": [
      "                   all         19         38      0.996          1      0.995      0.995\n"
     ]
    },
    {
     "name": "stderr",
     "output_type": "stream",
     "text": [
      "\n"
     ]
    },
    {
     "name": "stdout",
     "output_type": "stream",
     "text": [
      "\n",
      "      Epoch    GPU_mem   box_loss   cls_loss   dfl_loss  Instances       Size\n"
     ]
    },
    {
     "name": "stderr",
     "output_type": "stream",
     "text": [
      "     56/300      2.46G     0.2429     0.3217     0.8271         22        768: 100%|██████████| 10/10 [00:01<00:00,  9.73it/s]\n",
      "                 Class     Images  Instances      Box(P          R      mAP50  mAP50-95): 100%|██████████| 2/2 [00:00<00:00, 19.47it/s]"
     ]
    },
    {
     "name": "stdout",
     "output_type": "stream",
     "text": [
      "                   all         19         38      0.997          1      0.995      0.995\n"
     ]
    },
    {
     "name": "stderr",
     "output_type": "stream",
     "text": [
      "\n"
     ]
    },
    {
     "name": "stdout",
     "output_type": "stream",
     "text": [
      "\n",
      "      Epoch    GPU_mem   box_loss   cls_loss   dfl_loss  Instances       Size\n"
     ]
    },
    {
     "name": "stderr",
     "output_type": "stream",
     "text": [
      "     57/300      2.46G     0.2333      0.329     0.8352         29        768: 100%|██████████| 10/10 [00:00<00:00, 10.09it/s]\n",
      "                 Class     Images  Instances      Box(P          R      mAP50  mAP50-95): 100%|██████████| 2/2 [00:00<00:00, 17.36it/s]"
     ]
    },
    {
     "name": "stdout",
     "output_type": "stream",
     "text": [
      "                   all         19         38      0.997          1      0.995      0.995\n"
     ]
    },
    {
     "name": "stderr",
     "output_type": "stream",
     "text": [
      "\n"
     ]
    },
    {
     "name": "stdout",
     "output_type": "stream",
     "text": [
      "\n",
      "      Epoch    GPU_mem   box_loss   cls_loss   dfl_loss  Instances       Size\n"
     ]
    },
    {
     "name": "stderr",
     "output_type": "stream",
     "text": [
      "     58/300      2.46G     0.2299     0.3073     0.8078         32        768: 100%|██████████| 10/10 [00:01<00:00,  9.89it/s]\n",
      "                 Class     Images  Instances      Box(P          R      mAP50  mAP50-95): 100%|██████████| 2/2 [00:00<00:00, 19.49it/s]"
     ]
    },
    {
     "name": "stdout",
     "output_type": "stream",
     "text": [
      "                   all         19         38      0.997          1      0.995      0.995\n"
     ]
    },
    {
     "name": "stderr",
     "output_type": "stream",
     "text": [
      "\n"
     ]
    },
    {
     "name": "stdout",
     "output_type": "stream",
     "text": [
      "\n",
      "      Epoch    GPU_mem   box_loss   cls_loss   dfl_loss  Instances       Size\n"
     ]
    },
    {
     "name": "stderr",
     "output_type": "stream",
     "text": [
      "     59/300      2.46G     0.2379     0.2944     0.8269         26        768: 100%|██████████| 10/10 [00:00<00:00, 10.21it/s]\n",
      "                 Class     Images  Instances      Box(P          R      mAP50  mAP50-95): 100%|██████████| 2/2 [00:00<00:00, 18.82it/s]"
     ]
    },
    {
     "name": "stdout",
     "output_type": "stream",
     "text": [
      "                   all         19         38      0.996          1      0.995      0.995\n"
     ]
    },
    {
     "name": "stderr",
     "output_type": "stream",
     "text": [
      "\n"
     ]
    },
    {
     "name": "stdout",
     "output_type": "stream",
     "text": [
      "\n",
      "      Epoch    GPU_mem   box_loss   cls_loss   dfl_loss  Instances       Size\n"
     ]
    },
    {
     "name": "stderr",
     "output_type": "stream",
     "text": [
      "     60/300      2.46G      0.225     0.2943      0.828         19        768: 100%|██████████| 10/10 [00:00<00:00, 10.35it/s]\n",
      "                 Class     Images  Instances      Box(P          R      mAP50  mAP50-95): 100%|██████████| 2/2 [00:00<00:00, 18.13it/s]"
     ]
    },
    {
     "name": "stdout",
     "output_type": "stream",
     "text": [
      "                   all         19         38      0.993          1      0.995      0.992\n"
     ]
    },
    {
     "name": "stderr",
     "output_type": "stream",
     "text": [
      "\n"
     ]
    },
    {
     "name": "stdout",
     "output_type": "stream",
     "text": [
      "\n",
      "      Epoch    GPU_mem   box_loss   cls_loss   dfl_loss  Instances       Size\n"
     ]
    },
    {
     "name": "stderr",
     "output_type": "stream",
     "text": [
      "     61/300      2.46G     0.2275     0.3057     0.8194         14        768: 100%|██████████| 10/10 [00:00<00:00, 10.30it/s]\n",
      "                 Class     Images  Instances      Box(P          R      mAP50  mAP50-95): 100%|██████████| 2/2 [00:00<00:00, 20.84it/s]"
     ]
    },
    {
     "name": "stdout",
     "output_type": "stream",
     "text": [
      "                   all         19         38      0.993          1      0.995       0.99\n"
     ]
    },
    {
     "name": "stderr",
     "output_type": "stream",
     "text": [
      "\n"
     ]
    },
    {
     "name": "stdout",
     "output_type": "stream",
     "text": [
      "\n",
      "      Epoch    GPU_mem   box_loss   cls_loss   dfl_loss  Instances       Size\n"
     ]
    },
    {
     "name": "stderr",
     "output_type": "stream",
     "text": [
      "     62/300      2.46G     0.2478     0.2965     0.8296         36        768: 100%|██████████| 10/10 [00:01<00:00,  9.91it/s]\n",
      "                 Class     Images  Instances      Box(P          R      mAP50  mAP50-95): 100%|██████████| 2/2 [00:00<00:00, 21.04it/s]"
     ]
    },
    {
     "name": "stdout",
     "output_type": "stream",
     "text": [
      "                   all         19         38      0.997          1      0.995      0.972\n"
     ]
    },
    {
     "name": "stderr",
     "output_type": "stream",
     "text": [
      "\n"
     ]
    },
    {
     "name": "stdout",
     "output_type": "stream",
     "text": [
      "\n",
      "      Epoch    GPU_mem   box_loss   cls_loss   dfl_loss  Instances       Size\n"
     ]
    },
    {
     "name": "stderr",
     "output_type": "stream",
     "text": [
      "     63/300      2.46G     0.2333     0.3063       0.83         20        768: 100%|██████████| 10/10 [00:00<00:00, 10.60it/s]\n",
      "                 Class     Images  Instances      Box(P          R      mAP50  mAP50-95): 100%|██████████| 2/2 [00:00<00:00, 19.14it/s]"
     ]
    },
    {
     "name": "stdout",
     "output_type": "stream",
     "text": [
      "                   all         19         38      0.997          1      0.995      0.995\n"
     ]
    },
    {
     "name": "stderr",
     "output_type": "stream",
     "text": [
      "\n"
     ]
    },
    {
     "name": "stdout",
     "output_type": "stream",
     "text": [
      "\n",
      "      Epoch    GPU_mem   box_loss   cls_loss   dfl_loss  Instances       Size\n"
     ]
    },
    {
     "name": "stderr",
     "output_type": "stream",
     "text": [
      "     64/300      2.46G     0.2317     0.2928     0.8117         27        768: 100%|██████████| 10/10 [00:01<00:00,  9.85it/s]\n",
      "                 Class     Images  Instances      Box(P          R      mAP50  mAP50-95): 100%|██████████| 2/2 [00:00<00:00, 19.73it/s]"
     ]
    },
    {
     "name": "stdout",
     "output_type": "stream",
     "text": [
      "                   all         19         38      0.997          1      0.995      0.993\n"
     ]
    },
    {
     "name": "stderr",
     "output_type": "stream",
     "text": [
      "\n"
     ]
    },
    {
     "name": "stdout",
     "output_type": "stream",
     "text": [
      "\n",
      "      Epoch    GPU_mem   box_loss   cls_loss   dfl_loss  Instances       Size\n"
     ]
    },
    {
     "name": "stderr",
     "output_type": "stream",
     "text": [
      "     65/300      2.46G     0.2474     0.3094     0.8326         26        768: 100%|██████████| 10/10 [00:00<00:00, 10.18it/s]\n",
      "                 Class     Images  Instances      Box(P          R      mAP50  mAP50-95): 100%|██████████| 2/2 [00:00<00:00, 19.82it/s]"
     ]
    },
    {
     "name": "stdout",
     "output_type": "stream",
     "text": [
      "                   all         19         38      0.997          1      0.995      0.991\n"
     ]
    },
    {
     "name": "stderr",
     "output_type": "stream",
     "text": [
      "\n"
     ]
    },
    {
     "name": "stdout",
     "output_type": "stream",
     "text": [
      "\n",
      "      Epoch    GPU_mem   box_loss   cls_loss   dfl_loss  Instances       Size\n"
     ]
    },
    {
     "name": "stderr",
     "output_type": "stream",
     "text": [
      "     66/300      2.46G     0.2196     0.2968      0.846         24        768: 100%|██████████| 10/10 [00:01<00:00,  9.43it/s]\n",
      "                 Class     Images  Instances      Box(P          R      mAP50  mAP50-95): 100%|██████████| 2/2 [00:00<00:00, 18.64it/s]"
     ]
    },
    {
     "name": "stdout",
     "output_type": "stream",
     "text": [
      "                   all         19         38      0.997          1      0.995      0.988\n"
     ]
    },
    {
     "name": "stderr",
     "output_type": "stream",
     "text": [
      "\n"
     ]
    },
    {
     "name": "stdout",
     "output_type": "stream",
     "text": [
      "\n",
      "      Epoch    GPU_mem   box_loss   cls_loss   dfl_loss  Instances       Size\n"
     ]
    },
    {
     "name": "stderr",
     "output_type": "stream",
     "text": [
      "     67/300      2.46G     0.2383     0.2798     0.8319         23        768: 100%|██████████| 10/10 [00:00<00:00, 10.10it/s]\n",
      "                 Class     Images  Instances      Box(P          R      mAP50  mAP50-95): 100%|██████████| 2/2 [00:00<00:00, 20.37it/s]"
     ]
    },
    {
     "name": "stdout",
     "output_type": "stream",
     "text": [
      "                   all         19         38      0.997          1      0.995      0.995\n"
     ]
    },
    {
     "name": "stderr",
     "output_type": "stream",
     "text": [
      "\n"
     ]
    },
    {
     "name": "stdout",
     "output_type": "stream",
     "text": [
      "\n",
      "      Epoch    GPU_mem   box_loss   cls_loss   dfl_loss  Instances       Size\n"
     ]
    },
    {
     "name": "stderr",
     "output_type": "stream",
     "text": [
      "     68/300      2.46G     0.2238     0.2863     0.8376         18        768: 100%|██████████| 10/10 [00:00<00:00, 10.41it/s]\n",
      "                 Class     Images  Instances      Box(P          R      mAP50  mAP50-95): 100%|██████████| 2/2 [00:00<00:00, 17.00it/s]"
     ]
    },
    {
     "name": "stdout",
     "output_type": "stream",
     "text": [
      "                   all         19         38      0.997          1      0.995      0.981\n"
     ]
    },
    {
     "name": "stderr",
     "output_type": "stream",
     "text": [
      "\n"
     ]
    },
    {
     "name": "stdout",
     "output_type": "stream",
     "text": [
      "\n",
      "      Epoch    GPU_mem   box_loss   cls_loss   dfl_loss  Instances       Size\n"
     ]
    },
    {
     "name": "stderr",
     "output_type": "stream",
     "text": [
      "     69/300      2.46G     0.2643     0.3001     0.8399         17        768: 100%|██████████| 10/10 [00:00<00:00, 10.13it/s]\n",
      "                 Class     Images  Instances      Box(P          R      mAP50  mAP50-95): 100%|██████████| 2/2 [00:00<00:00, 20.21it/s]"
     ]
    },
    {
     "name": "stdout",
     "output_type": "stream",
     "text": [
      "                   all         19         38      0.997          1      0.995      0.995\n"
     ]
    },
    {
     "name": "stderr",
     "output_type": "stream",
     "text": [
      "\n"
     ]
    },
    {
     "name": "stdout",
     "output_type": "stream",
     "text": [
      "\n",
      "      Epoch    GPU_mem   box_loss   cls_loss   dfl_loss  Instances       Size\n"
     ]
    },
    {
     "name": "stderr",
     "output_type": "stream",
     "text": [
      "     70/300      2.46G     0.2422     0.2828     0.7998         28        768: 100%|██████████| 10/10 [00:01<00:00,  9.63it/s]\n",
      "                 Class     Images  Instances      Box(P          R      mAP50  mAP50-95): 100%|██████████| 2/2 [00:00<00:00, 19.71it/s]"
     ]
    },
    {
     "name": "stdout",
     "output_type": "stream",
     "text": [
      "                   all         19         38      0.997          1      0.995      0.976\n"
     ]
    },
    {
     "name": "stderr",
     "output_type": "stream",
     "text": [
      "\n"
     ]
    },
    {
     "name": "stdout",
     "output_type": "stream",
     "text": [
      "\n",
      "      Epoch    GPU_mem   box_loss   cls_loss   dfl_loss  Instances       Size\n"
     ]
    },
    {
     "name": "stderr",
     "output_type": "stream",
     "text": [
      "     71/300      2.46G     0.2532     0.2942     0.8245         22        768: 100%|██████████| 10/10 [00:01<00:00,  9.84it/s]\n",
      "                 Class     Images  Instances      Box(P          R      mAP50  mAP50-95): 100%|██████████| 2/2 [00:00<00:00, 19.72it/s]"
     ]
    },
    {
     "name": "stdout",
     "output_type": "stream",
     "text": [
      "                   all         19         38      0.996          1      0.995      0.995\n"
     ]
    },
    {
     "name": "stderr",
     "output_type": "stream",
     "text": [
      "\n"
     ]
    },
    {
     "name": "stdout",
     "output_type": "stream",
     "text": [
      "\n",
      "      Epoch    GPU_mem   box_loss   cls_loss   dfl_loss  Instances       Size\n"
     ]
    },
    {
     "name": "stderr",
     "output_type": "stream",
     "text": [
      "     72/300      2.46G     0.2302     0.2845     0.8391         26        768: 100%|██████████| 10/10 [00:00<00:00, 10.28it/s]\n",
      "                 Class     Images  Instances      Box(P          R      mAP50  mAP50-95): 100%|██████████| 2/2 [00:00<00:00, 21.58it/s]"
     ]
    },
    {
     "name": "stdout",
     "output_type": "stream",
     "text": [
      "                   all         19         38      0.996          1      0.995      0.995\n"
     ]
    },
    {
     "name": "stderr",
     "output_type": "stream",
     "text": [
      "\n"
     ]
    },
    {
     "name": "stdout",
     "output_type": "stream",
     "text": [
      "\n",
      "      Epoch    GPU_mem   box_loss   cls_loss   dfl_loss  Instances       Size\n"
     ]
    },
    {
     "name": "stderr",
     "output_type": "stream",
     "text": [
      "     73/300      2.46G     0.2235     0.2765      0.835         21        768: 100%|██████████| 10/10 [00:01<00:00, 10.00it/s]\n",
      "                 Class     Images  Instances      Box(P          R      mAP50  mAP50-95): 100%|██████████| 2/2 [00:00<00:00, 18.96it/s]"
     ]
    },
    {
     "name": "stdout",
     "output_type": "stream",
     "text": [
      "                   all         19         38      0.997          1      0.995      0.995\n",
      "\u001b[34m\u001b[1mEarlyStopping: \u001b[0mTraining stopped early as no improvement observed in last 50 epochs. Best results observed at epoch 23, best model saved as best.pt.\n",
      "To update EarlyStopping(patience=50) pass a new patience value, i.e. `patience=300` or use `patience=0` to disable EarlyStopping.\n"
     ]
    },
    {
     "name": "stderr",
     "output_type": "stream",
     "text": [
      "\n"
     ]
    },
    {
     "name": "stdout",
     "output_type": "stream",
     "text": [
      "\n",
      "73 epochs completed in 0.033 hours.\n",
      "Optimizer stripped from runs/detect/train/weights/last.pt, 4.6MB\n",
      "Optimizer stripped from runs/detect/train/weights/best.pt, 4.6MB\n",
      "\n",
      "Validating runs/detect/train/weights/best.pt...\n",
      "Ultralytics 8.3.146 🚀 Python-3.8.20 torch-2.0.0+cu118 CUDA:0 (NVIDIA GeForce RTX 3090, 24245MiB)\n",
      "YOLOv9t summary (fused): 197 layers, 1,971,174 parameters, 0 gradients, 7.6 GFLOPs\n"
     ]
    },
    {
     "name": "stderr",
     "output_type": "stream",
     "text": [
      "                 Class     Images  Instances      Box(P          R      mAP50  mAP50-95): 100%|██████████| 2/2 [00:00<00:00, 16.63it/s]\n"
     ]
    },
    {
     "name": "stdout",
     "output_type": "stream",
     "text": [
      "                   all         19         38      0.997          1      0.995      0.995\n",
      "                 outer         19         19      0.996          1      0.995      0.995\n",
      "                 inner         19         19      0.997          1      0.995      0.995\n",
      "Speed: 1.0ms preprocess, 1.6ms inference, 0.0ms loss, 0.6ms postprocess per image\n",
      "Results saved to \u001b[1mruns/detect/train\u001b[0m\n",
      "✅ Training complete! Check runs/detect/train folder for results.\n"
     ]
    }
   ],
   "source": [
    "from main import format_yolo_dataset_in_memory, split_yolo_dataset_in_memory, train_yolo_from_memory\n",
    "\n",
    "\n",
    "dataset = format_yolo_dataset_in_memory(dataset_dir, detections)\n",
    "\n",
    "# 3️⃣ Split dataset in memory into train/val\n",
    "split_data = split_yolo_dataset_in_memory(dataset, val_ratio=0.2)\n",
    "\n",
    "# 4️⃣ Train YOLO model using the in-memory split\n",
    "train_yolo_from_memory(split_data, model_name=\"yolov9t.pt\", epochs=300)\n"
   ]
  },
  {
   "cell_type": "code",
   "execution_count": 13,
   "metadata": {},
   "outputs": [
    {
     "name": "stdout",
     "output_type": "stream",
     "text": [
      "['Callable', 'DataLoader', 'Dataset', 'Dict', 'EmbeddingNet', 'EpisodicTripletDatasetFromDir', 'F', 'FewShotDatasetBuilder', 'FewShotTrainer', 'Image', 'List', 'Optional', 'Path', 'T', 'TripletNet', 'Tuple', 'Union', 'YOLO', '__builtins__', '__cached__', '__doc__', '__file__', '__loader__', '__name__', '__package__', '__spec__', 'build_few_shot_support_set', 'combinations', 'cv2', 'decode_image', 'decode_image_from_path', 'format_yolo_dataset', 'get_detections', 'logging', 'nn', 'np', 'optim', 'os', 'pickle', 'product', 'random', 'run_yolo_on_dataset', 'save_cropped_from_detections', 'shutil', 'split_yolo_dataset', 'torch', 'torchvision', 'train_fewshot_triplet', 'train_yolo_model', 'transforms', 'v2', 'yaml']\n"
     ]
    }
   ],
   "source": [
    "import main\n",
    "print(dir(main))\n"
   ]
  },
  {
   "cell_type": "code",
   "execution_count": 18,
   "metadata": {},
   "outputs": [
    {
     "name": "stdout",
     "output_type": "stream",
     "text": [
      "\n",
      "image 1/1 /home/dhvani23/dwarakesh/Combine/Data/FANTA SOLID/3683.png: 576x768 1 outer, 1 inner, 11.6ms\n",
      "Speed: 2.3ms preprocess, 11.6ms inference, 1.0ms postprocess per image at shape (1, 3, 576, 768)\n",
      "Processed /home/dhvani23/dwarakesh/Combine/Data/FANTA SOLID/3683.png\n",
      "\n",
      "image 1/1 /home/dhvani23/dwarakesh/Combine/Data/FANTA SOLID/3686.png: 576x768 1 outer, 1 inner, 10.9ms\n",
      "Speed: 2.3ms preprocess, 10.9ms inference, 0.9ms postprocess per image at shape (1, 3, 576, 768)\n",
      "Processed /home/dhvani23/dwarakesh/Combine/Data/FANTA SOLID/3686.png\n",
      "\n",
      "image 1/1 /home/dhvani23/dwarakesh/Combine/Data/FANTA SOLID/3692.png: 576x768 1 outer, 1 inner, 10.9ms\n",
      "Speed: 2.5ms preprocess, 10.9ms inference, 0.9ms postprocess per image at shape (1, 3, 576, 768)\n",
      "Processed /home/dhvani23/dwarakesh/Combine/Data/FANTA SOLID/3692.png\n",
      "\n",
      "image 1/1 /home/dhvani23/dwarakesh/Combine/Data/FANTA SOLID/3732.png: 576x768 1 outer, 1 inner, 11.0ms\n",
      "Speed: 2.3ms preprocess, 11.0ms inference, 1.0ms postprocess per image at shape (1, 3, 576, 768)\n",
      "Processed /home/dhvani23/dwarakesh/Combine/Data/FANTA SOLID/3732.png\n",
      "\n",
      "image 1/1 /home/dhvani23/dwarakesh/Combine/Data/FANTA SOLID/3680.png: 576x768 1 outer, 1 inner, 11.0ms\n",
      "Speed: 2.6ms preprocess, 11.0ms inference, 0.9ms postprocess per image at shape (1, 3, 576, 768)\n",
      "Processed /home/dhvani23/dwarakesh/Combine/Data/FANTA SOLID/3680.png\n",
      "\n",
      "image 1/1 /home/dhvani23/dwarakesh/Combine/Data/FANTA SOLID/3727.png: 576x768 1 outer, 1 inner, 10.9ms\n",
      "Speed: 2.4ms preprocess, 10.9ms inference, 0.9ms postprocess per image at shape (1, 3, 576, 768)\n",
      "Processed /home/dhvani23/dwarakesh/Combine/Data/FANTA SOLID/3727.png\n",
      "\n",
      "image 1/1 /home/dhvani23/dwarakesh/Combine/Data/FANTA SOLID/3731.png: 576x768 1 outer, 1 inner, 10.9ms\n",
      "Speed: 2.2ms preprocess, 10.9ms inference, 1.2ms postprocess per image at shape (1, 3, 576, 768)\n",
      "Processed /home/dhvani23/dwarakesh/Combine/Data/FANTA SOLID/3731.png\n",
      "\n",
      "image 1/1 /home/dhvani23/dwarakesh/Combine/Data/FANTA SOLID/3733.png: 576x768 1 outer, 1 inner, 10.9ms\n",
      "Speed: 2.2ms preprocess, 10.9ms inference, 0.9ms postprocess per image at shape (1, 3, 576, 768)\n",
      "Processed /home/dhvani23/dwarakesh/Combine/Data/FANTA SOLID/3733.png\n",
      "\n",
      "image 1/1 /home/dhvani23/dwarakesh/Combine/Data/FANTA SOLID/3694.png: 576x768 1 outer, 1 inner, 11.0ms\n",
      "Speed: 2.2ms preprocess, 11.0ms inference, 1.1ms postprocess per image at shape (1, 3, 576, 768)\n",
      "Processed /home/dhvani23/dwarakesh/Combine/Data/FANTA SOLID/3694.png\n",
      "\n",
      "image 1/1 /home/dhvani23/dwarakesh/Combine/Data/FANTA SOLID/3716.png: 576x768 1 outer, 1 inner, 11.0ms\n",
      "Speed: 2.3ms preprocess, 11.0ms inference, 0.9ms postprocess per image at shape (1, 3, 576, 768)\n",
      "Processed /home/dhvani23/dwarakesh/Combine/Data/FANTA SOLID/3716.png\n",
      "\n",
      "image 1/1 /home/dhvani23/dwarakesh/Combine/Data/FANTA SOLID/3705.png: 576x768 1 outer, 1 inner, 11.1ms\n",
      "Speed: 2.2ms preprocess, 11.1ms inference, 0.9ms postprocess per image at shape (1, 3, 576, 768)\n",
      "Processed /home/dhvani23/dwarakesh/Combine/Data/FANTA SOLID/3705.png\n",
      "\n",
      "image 1/1 /home/dhvani23/dwarakesh/Combine/Data/FANTA SOLID/3690.png: 576x768 1 outer, 1 inner, 11.1ms\n",
      "Speed: 2.2ms preprocess, 11.1ms inference, 0.9ms postprocess per image at shape (1, 3, 576, 768)\n",
      "Processed /home/dhvani23/dwarakesh/Combine/Data/FANTA SOLID/3690.png\n",
      "\n",
      "image 1/1 /home/dhvani23/dwarakesh/Combine/Data/FANTA SOLID/3719.png: 576x768 1 outer, 1 inner, 11.1ms\n",
      "Speed: 2.2ms preprocess, 11.1ms inference, 0.9ms postprocess per image at shape (1, 3, 576, 768)\n",
      "Processed /home/dhvani23/dwarakesh/Combine/Data/FANTA SOLID/3719.png\n",
      "\n",
      "image 1/1 /home/dhvani23/dwarakesh/Combine/Data/FANTA SOLID/3685.png: 576x768 1 outer, 1 inner, 11.1ms\n",
      "Speed: 2.5ms preprocess, 11.1ms inference, 1.0ms postprocess per image at shape (1, 3, 576, 768)\n",
      "Processed /home/dhvani23/dwarakesh/Combine/Data/FANTA SOLID/3685.png\n",
      "\n",
      "image 1/1 /home/dhvani23/dwarakesh/Combine/Data/GRAY TRIANGLE/3730.png: 576x768 1 outer, 1 inner, 11.1ms\n",
      "Speed: 2.9ms preprocess, 11.1ms inference, 0.9ms postprocess per image at shape (1, 3, 576, 768)\n",
      "Processed /home/dhvani23/dwarakesh/Combine/Data/GRAY TRIANGLE/3730.png\n",
      "\n",
      "image 1/1 /home/dhvani23/dwarakesh/Combine/Data/GRAY TRIANGLE/3753.png: 576x768 1 outer, 1 inner, 11.2ms\n",
      "Speed: 2.3ms preprocess, 11.2ms inference, 0.9ms postprocess per image at shape (1, 3, 576, 768)\n",
      "Processed /home/dhvani23/dwarakesh/Combine/Data/GRAY TRIANGLE/3753.png\n",
      "\n",
      "image 1/1 /home/dhvani23/dwarakesh/Combine/Data/GRAY TRIANGLE/3702.png: 576x768 1 outer, 1 inner, 11.0ms\n",
      "Speed: 2.3ms preprocess, 11.0ms inference, 0.9ms postprocess per image at shape (1, 3, 576, 768)\n",
      "Processed /home/dhvani23/dwarakesh/Combine/Data/GRAY TRIANGLE/3702.png\n",
      "\n",
      "image 1/1 /home/dhvani23/dwarakesh/Combine/Data/GRAY TRIANGLE/3714.png: 576x768 1 outer, 1 inner, 11.3ms\n",
      "Speed: 2.2ms preprocess, 11.3ms inference, 0.9ms postprocess per image at shape (1, 3, 576, 768)\n",
      "Processed /home/dhvani23/dwarakesh/Combine/Data/GRAY TRIANGLE/3714.png\n",
      "\n",
      "image 1/1 /home/dhvani23/dwarakesh/Combine/Data/GRAY TRIANGLE/3783.png: 576x768 1 outer, 1 inner, 11.6ms\n",
      "Speed: 2.2ms preprocess, 11.6ms inference, 1.0ms postprocess per image at shape (1, 3, 576, 768)\n",
      "Processed /home/dhvani23/dwarakesh/Combine/Data/GRAY TRIANGLE/3783.png\n",
      "\n",
      "image 1/1 /home/dhvani23/dwarakesh/Combine/Data/GRAY TRIANGLE/3707.png: 576x768 1 outer, 1 inner, 11.1ms\n",
      "Speed: 2.3ms preprocess, 11.1ms inference, 0.9ms postprocess per image at shape (1, 3, 576, 768)\n",
      "Processed /home/dhvani23/dwarakesh/Combine/Data/GRAY TRIANGLE/3707.png\n",
      "\n",
      "image 1/1 /home/dhvani23/dwarakesh/Combine/Data/GRAY TRIANGLE/3744.png: 576x768 1 outer, 1 inner, 11.2ms\n",
      "Speed: 2.3ms preprocess, 11.2ms inference, 0.9ms postprocess per image at shape (1, 3, 576, 768)\n",
      "Processed /home/dhvani23/dwarakesh/Combine/Data/GRAY TRIANGLE/3744.png\n",
      "\n",
      "image 1/1 /home/dhvani23/dwarakesh/Combine/Data/GRAY TRIANGLE/3704.png: 576x768 1 outer, 1 inner, 11.2ms\n",
      "Speed: 2.3ms preprocess, 11.2ms inference, 0.9ms postprocess per image at shape (1, 3, 576, 768)\n",
      "Processed /home/dhvani23/dwarakesh/Combine/Data/GRAY TRIANGLE/3704.png\n",
      "\n",
      "image 1/1 /home/dhvani23/dwarakesh/Combine/Data/GRAY TRIANGLE/3791.png: 576x768 1 outer, 1 inner, 11.1ms\n",
      "Speed: 2.2ms preprocess, 11.1ms inference, 0.9ms postprocess per image at shape (1, 3, 576, 768)\n",
      "Processed /home/dhvani23/dwarakesh/Combine/Data/GRAY TRIANGLE/3791.png\n",
      "\n",
      "image 1/1 /home/dhvani23/dwarakesh/Combine/Data/GRAY TRIANGLE/3687.png: 576x768 1 outer, 1 inner, 11.1ms\n",
      "Speed: 2.2ms preprocess, 11.1ms inference, 0.9ms postprocess per image at shape (1, 3, 576, 768)\n",
      "Processed /home/dhvani23/dwarakesh/Combine/Data/GRAY TRIANGLE/3687.png\n",
      "\n",
      "image 1/1 /home/dhvani23/dwarakesh/Combine/Data/GRAY TRIANGLE/3734.png: 576x768 1 outer, 1 inner, 11.1ms\n",
      "Speed: 2.2ms preprocess, 11.1ms inference, 0.9ms postprocess per image at shape (1, 3, 576, 768)\n",
      "Processed /home/dhvani23/dwarakesh/Combine/Data/GRAY TRIANGLE/3734.png\n",
      "\n",
      "image 1/1 /home/dhvani23/dwarakesh/Combine/Data/GRAY TRIANGLE/3681.png: 576x768 1 outer, 1 inner, 11.0ms\n",
      "Speed: 2.2ms preprocess, 11.0ms inference, 1.6ms postprocess per image at shape (1, 3, 576, 768)\n",
      "Processed /home/dhvani23/dwarakesh/Combine/Data/GRAY TRIANGLE/3681.png\n",
      "\n",
      "image 1/1 /home/dhvani23/dwarakesh/Combine/Data/GRAY TRIANGLE/3723.png: 576x768 1 outer, 1 inner, 11.0ms\n",
      "Speed: 2.2ms preprocess, 11.0ms inference, 1.1ms postprocess per image at shape (1, 3, 576, 768)\n",
      "Processed /home/dhvani23/dwarakesh/Combine/Data/GRAY TRIANGLE/3723.png\n",
      "\n",
      "image 1/1 /home/dhvani23/dwarakesh/Combine/Data/GRAY TRIANGLE/3765.png: 576x768 1 outer, 1 inner, 11.2ms\n",
      "Speed: 2.2ms preprocess, 11.2ms inference, 1.1ms postprocess per image at shape (1, 3, 576, 768)\n",
      "Processed /home/dhvani23/dwarakesh/Combine/Data/GRAY TRIANGLE/3765.png\n",
      "\n",
      "image 1/1 /home/dhvani23/dwarakesh/Combine/Data/BROWN CHECKED/1546.png: 576x768 1 outer, 1 inner, 11.2ms\n",
      "Speed: 2.3ms preprocess, 11.2ms inference, 0.9ms postprocess per image at shape (1, 3, 576, 768)\n",
      "Processed /home/dhvani23/dwarakesh/Combine/Data/BROWN CHECKED/1546.png\n",
      "\n",
      "image 1/1 /home/dhvani23/dwarakesh/Combine/Data/BROWN CHECKED/1564.png: 576x768 1 outer, 1 inner, 11.1ms\n",
      "Speed: 2.3ms preprocess, 11.1ms inference, 1.1ms postprocess per image at shape (1, 3, 576, 768)\n",
      "Processed /home/dhvani23/dwarakesh/Combine/Data/BROWN CHECKED/1564.png\n",
      "\n",
      "image 1/1 /home/dhvani23/dwarakesh/Combine/Data/BROWN CHECKED/1518.png: 576x768 1 outer, 1 inner, 11.0ms\n",
      "Speed: 2.3ms preprocess, 11.0ms inference, 0.9ms postprocess per image at shape (1, 3, 576, 768)\n",
      "Processed /home/dhvani23/dwarakesh/Combine/Data/BROWN CHECKED/1518.png\n",
      "\n",
      "image 1/1 /home/dhvani23/dwarakesh/Combine/Data/BROWN CHECKED/1595.png: 576x768 1 outer, 1 inner, 10.9ms\n",
      "Speed: 2.2ms preprocess, 10.9ms inference, 1.6ms postprocess per image at shape (1, 3, 576, 768)\n",
      "Processed /home/dhvani23/dwarakesh/Combine/Data/BROWN CHECKED/1595.png\n",
      "\n",
      "image 1/1 /home/dhvani23/dwarakesh/Combine/Data/BROWN CHECKED/1563.png: 576x768 1 outer, 1 inner, 11.1ms\n",
      "Speed: 2.2ms preprocess, 11.1ms inference, 0.9ms postprocess per image at shape (1, 3, 576, 768)\n",
      "Processed /home/dhvani23/dwarakesh/Combine/Data/BROWN CHECKED/1563.png\n",
      "\n",
      "image 1/1 /home/dhvani23/dwarakesh/Combine/Data/BROWN CHECKED/1576.png: 576x768 1 outer, 1 inner, 11.0ms\n",
      "Speed: 2.2ms preprocess, 11.0ms inference, 1.6ms postprocess per image at shape (1, 3, 576, 768)\n",
      "Processed /home/dhvani23/dwarakesh/Combine/Data/BROWN CHECKED/1576.png\n",
      "\n",
      "image 1/1 /home/dhvani23/dwarakesh/Combine/Data/BROWN CHECKED/1532.png: 576x768 1 outer, 1 inner, 11.2ms\n",
      "Speed: 2.2ms preprocess, 11.2ms inference, 0.9ms postprocess per image at shape (1, 3, 576, 768)\n",
      "Processed /home/dhvani23/dwarakesh/Combine/Data/BROWN CHECKED/1532.png\n",
      "\n",
      "image 1/1 /home/dhvani23/dwarakesh/Combine/Data/BROWN CHECKED/1578.png: 576x768 1 outer, 1 inner, 11.0ms\n",
      "Speed: 2.3ms preprocess, 11.0ms inference, 1.0ms postprocess per image at shape (1, 3, 576, 768)\n",
      "Processed /home/dhvani23/dwarakesh/Combine/Data/BROWN CHECKED/1578.png\n",
      "\n",
      "image 1/1 /home/dhvani23/dwarakesh/Combine/Data/BROWN CHECKED/1614.png: 576x768 1 outer, 1 inner, 11.4ms\n",
      "Speed: 2.2ms preprocess, 11.4ms inference, 1.5ms postprocess per image at shape (1, 3, 576, 768)\n",
      "Processed /home/dhvani23/dwarakesh/Combine/Data/BROWN CHECKED/1614.png\n",
      "\n",
      "image 1/1 /home/dhvani23/dwarakesh/Combine/Data/BROWN CHECKED/1580.png: 576x768 1 outer, 1 inner, 11.1ms\n",
      "Speed: 2.3ms preprocess, 11.1ms inference, 1.0ms postprocess per image at shape (1, 3, 576, 768)\n",
      "Processed /home/dhvani23/dwarakesh/Combine/Data/BROWN CHECKED/1580.png\n",
      "\n",
      "image 1/1 /home/dhvani23/dwarakesh/Combine/Data/BROWN CHECKED/1536.png: 576x768 1 outer, 1 inner, 11.1ms\n",
      "Speed: 2.2ms preprocess, 11.1ms inference, 0.9ms postprocess per image at shape (1, 3, 576, 768)\n",
      "Processed /home/dhvani23/dwarakesh/Combine/Data/BROWN CHECKED/1536.png\n",
      "\n",
      "image 1/1 /home/dhvani23/dwarakesh/Combine/Data/BROWN CHECKED/1585.png: 576x768 1 outer, 1 inner, 11.2ms\n",
      "Speed: 2.2ms preprocess, 11.2ms inference, 1.0ms postprocess per image at shape (1, 3, 576, 768)\n",
      "Processed /home/dhvani23/dwarakesh/Combine/Data/BROWN CHECKED/1585.png\n",
      "\n",
      "image 1/1 /home/dhvani23/dwarakesh/Combine/Data/BROWN CHECKED/1584.png: 576x768 1 outer, 1 inner, 11.3ms\n",
      "Speed: 2.2ms preprocess, 11.3ms inference, 0.9ms postprocess per image at shape (1, 3, 576, 768)\n",
      "Processed /home/dhvani23/dwarakesh/Combine/Data/BROWN CHECKED/1584.png\n",
      "\n",
      "image 1/1 /home/dhvani23/dwarakesh/Combine/Data/BROWN CHECKED/1552.png: 576x768 1 outer, 1 inner, 11.2ms\n",
      "Speed: 2.4ms preprocess, 11.2ms inference, 1.0ms postprocess per image at shape (1, 3, 576, 768)\n",
      "Processed /home/dhvani23/dwarakesh/Combine/Data/BROWN CHECKED/1552.png\n",
      "\n",
      "image 1/1 /home/dhvani23/dwarakesh/Combine/Data/BROWN CHECKED/1609.png: 576x768 1 outer, 1 inner, 11.2ms\n",
      "Speed: 2.2ms preprocess, 11.2ms inference, 0.9ms postprocess per image at shape (1, 3, 576, 768)\n",
      "Processed /home/dhvani23/dwarakesh/Combine/Data/BROWN CHECKED/1609.png\n",
      "\n",
      "image 1/1 /home/dhvani23/dwarakesh/Combine/Data/BROWN CHECKED/1603.png: 576x768 1 outer, 1 inner, 11.3ms\n",
      "Speed: 2.3ms preprocess, 11.3ms inference, 0.9ms postprocess per image at shape (1, 3, 576, 768)\n",
      "Processed /home/dhvani23/dwarakesh/Combine/Data/BROWN CHECKED/1603.png\n",
      "\n",
      "image 1/1 /home/dhvani23/dwarakesh/Combine/Data/BROWN CHECKED/1530.png: 576x768 1 outer, 1 inner, 11.4ms\n",
      "Speed: 2.3ms preprocess, 11.4ms inference, 1.0ms postprocess per image at shape (1, 3, 576, 768)\n",
      "Processed /home/dhvani23/dwarakesh/Combine/Data/BROWN CHECKED/1530.png\n",
      "\n",
      "image 1/1 /home/dhvani23/dwarakesh/Combine/Data/BROWN CHECKED/1572.png: 576x768 1 outer, 1 inner, 11.1ms\n",
      "Speed: 2.3ms preprocess, 11.1ms inference, 1.6ms postprocess per image at shape (1, 3, 576, 768)\n",
      "Processed /home/dhvani23/dwarakesh/Combine/Data/BROWN CHECKED/1572.png\n",
      "\n",
      "image 1/1 /home/dhvani23/dwarakesh/Combine/Data/BROWN CHECKED/1582.png: 576x768 1 outer, 1 inner, 11.1ms\n",
      "Speed: 2.2ms preprocess, 11.1ms inference, 1.6ms postprocess per image at shape (1, 3, 576, 768)\n",
      "Processed /home/dhvani23/dwarakesh/Combine/Data/BROWN CHECKED/1582.png\n",
      "\n",
      "image 1/1 /home/dhvani23/dwarakesh/Combine/Data/BROWN CHECKED/1610.png: 576x768 1 outer, 1 inner, 11.2ms\n",
      "Speed: 2.3ms preprocess, 11.2ms inference, 0.9ms postprocess per image at shape (1, 3, 576, 768)\n",
      "Processed /home/dhvani23/dwarakesh/Combine/Data/BROWN CHECKED/1610.png\n",
      "\n",
      "image 1/1 /home/dhvani23/dwarakesh/Combine/Data/BROWN CHECKED/1539.png: 576x768 1 outer, 1 inner, 11.1ms\n",
      "Speed: 2.4ms preprocess, 11.1ms inference, 0.9ms postprocess per image at shape (1, 3, 576, 768)\n",
      "Processed /home/dhvani23/dwarakesh/Combine/Data/BROWN CHECKED/1539.png\n",
      "\n",
      "image 1/1 /home/dhvani23/dwarakesh/Combine/Data/RED TRIANGLE/1523.png: 576x768 1 outer, 1 inner, 11.2ms\n",
      "Speed: 2.3ms preprocess, 11.2ms inference, 0.9ms postprocess per image at shape (1, 3, 576, 768)\n",
      "Processed /home/dhvani23/dwarakesh/Combine/Data/RED TRIANGLE/1523.png\n",
      "\n",
      "image 1/1 /home/dhvani23/dwarakesh/Combine/Data/RED TRIANGLE/1522.png: 576x768 1 outer, 1 inner, 11.2ms\n",
      "Speed: 2.3ms preprocess, 11.2ms inference, 0.9ms postprocess per image at shape (1, 3, 576, 768)\n",
      "Processed /home/dhvani23/dwarakesh/Combine/Data/RED TRIANGLE/1522.png\n",
      "\n",
      "image 1/1 /home/dhvani23/dwarakesh/Combine/Data/RED TRIANGLE/1543.png: 576x768 1 outer, 1 inner, 11.1ms\n",
      "Speed: 2.2ms preprocess, 11.1ms inference, 1.1ms postprocess per image at shape (1, 3, 576, 768)\n",
      "Processed /home/dhvani23/dwarakesh/Combine/Data/RED TRIANGLE/1543.png\n",
      "\n",
      "image 1/1 /home/dhvani23/dwarakesh/Combine/Data/RED TRIANGLE/1556.png: 576x768 1 outer, 1 inner, 11.0ms\n",
      "Speed: 2.3ms preprocess, 11.0ms inference, 0.9ms postprocess per image at shape (1, 3, 576, 768)\n",
      "Processed /home/dhvani23/dwarakesh/Combine/Data/RED TRIANGLE/1556.png\n",
      "\n",
      "image 1/1 /home/dhvani23/dwarakesh/Combine/Data/RED TRIANGLE/1534.png: 576x768 1 outer, 1 inner, 11.3ms\n",
      "Speed: 2.3ms preprocess, 11.3ms inference, 0.9ms postprocess per image at shape (1, 3, 576, 768)\n",
      "Processed /home/dhvani23/dwarakesh/Combine/Data/RED TRIANGLE/1534.png\n",
      "\n",
      "image 1/1 /home/dhvani23/dwarakesh/Combine/Data/RED TRIANGLE/1531.png: 576x768 1 outer, 1 inner, 11.3ms\n",
      "Speed: 2.2ms preprocess, 11.3ms inference, 0.9ms postprocess per image at shape (1, 3, 576, 768)\n",
      "Processed /home/dhvani23/dwarakesh/Combine/Data/RED TRIANGLE/1531.png\n",
      "\n",
      "image 1/1 /home/dhvani23/dwarakesh/Combine/Data/RED TRIANGLE/1526.png: 576x768 1 outer, 1 inner, 11.3ms\n",
      "Speed: 2.2ms preprocess, 11.3ms inference, 1.2ms postprocess per image at shape (1, 3, 576, 768)\n",
      "Processed /home/dhvani23/dwarakesh/Combine/Data/RED TRIANGLE/1526.png\n",
      "\n",
      "image 1/1 /home/dhvani23/dwarakesh/Combine/Data/RED TRIANGLE/1550.png: 576x768 1 outer, 1 inner, 11.4ms\n",
      "Speed: 2.2ms preprocess, 11.4ms inference, 1.0ms postprocess per image at shape (1, 3, 576, 768)\n",
      "Processed /home/dhvani23/dwarakesh/Combine/Data/RED TRIANGLE/1550.png\n",
      "\n",
      "image 1/1 /home/dhvani23/dwarakesh/Combine/Data/VIOLET_CHECKED/8766.png: 576x768 1 outer, 1 inner, 11.3ms\n",
      "Speed: 2.2ms preprocess, 11.3ms inference, 1.0ms postprocess per image at shape (1, 3, 576, 768)\n",
      "Processed /home/dhvani23/dwarakesh/Combine/Data/VIOLET_CHECKED/8766.png\n",
      "\n",
      "image 1/1 /home/dhvani23/dwarakesh/Combine/Data/VIOLET_CHECKED/8791.png: 576x768 1 outer, 1 inner, 11.4ms\n",
      "Speed: 2.2ms preprocess, 11.4ms inference, 0.9ms postprocess per image at shape (1, 3, 576, 768)\n",
      "Processed /home/dhvani23/dwarakesh/Combine/Data/VIOLET_CHECKED/8791.png\n",
      "\n",
      "image 1/1 /home/dhvani23/dwarakesh/Combine/Data/VIOLET_CHECKED/8803.png: 576x768 1 outer, 1 inner, 11.3ms\n",
      "Speed: 2.2ms preprocess, 11.3ms inference, 1.0ms postprocess per image at shape (1, 3, 576, 768)\n",
      "Processed /home/dhvani23/dwarakesh/Combine/Data/VIOLET_CHECKED/8803.png\n",
      "\n",
      "image 1/1 /home/dhvani23/dwarakesh/Combine/Data/VIOLET_CHECKED/8786.png: 576x768 1 outer, 1 inner, 11.3ms\n",
      "Speed: 2.2ms preprocess, 11.3ms inference, 1.0ms postprocess per image at shape (1, 3, 576, 768)\n",
      "Processed /home/dhvani23/dwarakesh/Combine/Data/VIOLET_CHECKED/8786.png\n",
      "\n",
      "image 1/1 /home/dhvani23/dwarakesh/Combine/Data/VIOLET_CHECKED/8779.png: 576x768 1 outer, 1 inner, 11.4ms\n",
      "Speed: 2.2ms preprocess, 11.4ms inference, 0.9ms postprocess per image at shape (1, 3, 576, 768)\n",
      "Processed /home/dhvani23/dwarakesh/Combine/Data/VIOLET_CHECKED/8779.png\n",
      "\n",
      "image 1/1 /home/dhvani23/dwarakesh/Combine/Data/VIOLET_CHECKED/8797.png: 576x768 1 outer, 1 inner, 11.3ms\n",
      "Speed: 2.2ms preprocess, 11.3ms inference, 0.9ms postprocess per image at shape (1, 3, 576, 768)\n",
      "Processed /home/dhvani23/dwarakesh/Combine/Data/VIOLET_CHECKED/8797.png\n",
      "\n",
      "image 1/1 /home/dhvani23/dwarakesh/Combine/Data/VIOLET_CHECKED/8784.png: 576x768 1 outer, 1 inner, 11.4ms\n",
      "Speed: 2.2ms preprocess, 11.4ms inference, 0.9ms postprocess per image at shape (1, 3, 576, 768)\n",
      "Processed /home/dhvani23/dwarakesh/Combine/Data/VIOLET_CHECKED/8784.png\n",
      "\n",
      "image 1/1 /home/dhvani23/dwarakesh/Combine/Data/VIOLET_CHECKED/8799.png: 576x768 1 outer, 1 inner, 11.5ms\n",
      "Speed: 2.2ms preprocess, 11.5ms inference, 0.9ms postprocess per image at shape (1, 3, 576, 768)\n",
      "Processed /home/dhvani23/dwarakesh/Combine/Data/VIOLET_CHECKED/8799.png\n",
      "\n",
      "image 1/1 /home/dhvani23/dwarakesh/Combine/Data/VIOLET_CHECKED/8795.png: 576x768 1 outer, 1 inner, 11.4ms\n",
      "Speed: 2.3ms preprocess, 11.4ms inference, 0.9ms postprocess per image at shape (1, 3, 576, 768)\n",
      "Processed /home/dhvani23/dwarakesh/Combine/Data/VIOLET_CHECKED/8795.png\n",
      "\n",
      "image 1/1 /home/dhvani23/dwarakesh/Combine/Data/VIOLET_CHECKED/8760.png: 576x768 1 outer, 1 inner, 11.4ms\n",
      "Speed: 2.2ms preprocess, 11.4ms inference, 0.9ms postprocess per image at shape (1, 3, 576, 768)\n",
      "Processed /home/dhvani23/dwarakesh/Combine/Data/VIOLET_CHECKED/8760.png\n",
      "\n",
      "image 1/1 /home/dhvani23/dwarakesh/Combine/Data/VIOLET_CHECKED/8768.png: 576x768 1 outer, 1 inner, 11.2ms\n",
      "Speed: 2.3ms preprocess, 11.2ms inference, 0.9ms postprocess per image at shape (1, 3, 576, 768)\n",
      "Processed /home/dhvani23/dwarakesh/Combine/Data/VIOLET_CHECKED/8768.png\n",
      "\n",
      "image 1/1 /home/dhvani23/dwarakesh/Combine/Data/VIOLET_CHECKED/8770.png: 576x768 1 outer, 1 inner, 11.2ms\n",
      "Speed: 2.2ms preprocess, 11.2ms inference, 1.1ms postprocess per image at shape (1, 3, 576, 768)\n",
      "Processed /home/dhvani23/dwarakesh/Combine/Data/VIOLET_CHECKED/8770.png\n",
      "\n",
      "image 1/1 /home/dhvani23/dwarakesh/Combine/Data/VIOLET_CHECKED/8787.png: 576x768 1 outer, 1 inner, 11.6ms\n",
      "Speed: 2.5ms preprocess, 11.6ms inference, 1.0ms postprocess per image at shape (1, 3, 576, 768)\n",
      "Processed /home/dhvani23/dwarakesh/Combine/Data/VIOLET_CHECKED/8787.png\n",
      "\n",
      "image 1/1 /home/dhvani23/dwarakesh/Combine/Data/VIOLET_CHECKED/8762.png: 576x768 1 outer, 1 inner, 11.9ms\n",
      "Speed: 2.3ms preprocess, 11.9ms inference, 0.9ms postprocess per image at shape (1, 3, 576, 768)\n",
      "Processed /home/dhvani23/dwarakesh/Combine/Data/VIOLET_CHECKED/8762.png\n",
      "\n",
      "image 1/1 /home/dhvani23/dwarakesh/Combine/Data/VIOLET_CHECKED/8793.png: 576x768 1 outer, 1 inner, 11.9ms\n",
      "Speed: 2.3ms preprocess, 11.9ms inference, 1.1ms postprocess per image at shape (1, 3, 576, 768)\n",
      "Processed /home/dhvani23/dwarakesh/Combine/Data/VIOLET_CHECKED/8793.png\n",
      "\n",
      "image 1/1 /home/dhvani23/dwarakesh/Combine/Data/GREEN SOLID/3654.png: 576x768 1 outer, 1 inner, 11.7ms\n",
      "Speed: 2.3ms preprocess, 11.7ms inference, 0.9ms postprocess per image at shape (1, 3, 576, 768)\n",
      "Processed /home/dhvani23/dwarakesh/Combine/Data/GREEN SOLID/3654.png\n",
      "\n",
      "image 1/1 /home/dhvani23/dwarakesh/Combine/Data/GREEN SOLID/3355.png: 576x768 1 outer, 1 inner, 10.9ms\n",
      "Speed: 2.2ms preprocess, 10.9ms inference, 1.0ms postprocess per image at shape (1, 3, 576, 768)\n",
      "Processed /home/dhvani23/dwarakesh/Combine/Data/GREEN SOLID/3355.png\n",
      "\n",
      "image 1/1 /home/dhvani23/dwarakesh/Combine/Data/GREEN SOLID/3608.png: 576x768 1 outer, 1 inner, 11.0ms\n",
      "Speed: 2.3ms preprocess, 11.0ms inference, 1.0ms postprocess per image at shape (1, 3, 576, 768)\n",
      "Processed /home/dhvani23/dwarakesh/Combine/Data/GREEN SOLID/3608.png\n",
      "\n",
      "image 1/1 /home/dhvani23/dwarakesh/Combine/Data/GREEN SOLID/3325.png: 576x768 1 outer, 1 inner, 10.8ms\n",
      "Speed: 2.3ms preprocess, 10.8ms inference, 0.9ms postprocess per image at shape (1, 3, 576, 768)\n",
      "Processed /home/dhvani23/dwarakesh/Combine/Data/GREEN SOLID/3325.png\n",
      "\n",
      "image 1/1 /home/dhvani23/dwarakesh/Combine/Data/GREEN SOLID/3628.png: 576x768 1 outer, 1 inner, 10.9ms\n",
      "Speed: 2.3ms preprocess, 10.9ms inference, 0.9ms postprocess per image at shape (1, 3, 576, 768)\n",
      "Processed /home/dhvani23/dwarakesh/Combine/Data/GREEN SOLID/3628.png\n",
      "\n",
      "image 1/1 /home/dhvani23/dwarakesh/Combine/Data/GREEN SOLID/3376.png: 576x768 1 outer, 1 inner, 11.0ms\n",
      "Speed: 2.3ms preprocess, 11.0ms inference, 1.0ms postprocess per image at shape (1, 3, 576, 768)\n",
      "Processed /home/dhvani23/dwarakesh/Combine/Data/GREEN SOLID/3376.png\n",
      "\n",
      "image 1/1 /home/dhvani23/dwarakesh/Combine/Data/GREEN SOLID/3620.png: 576x768 1 outer, 1 inner, 11.3ms\n",
      "Speed: 2.2ms preprocess, 11.3ms inference, 0.9ms postprocess per image at shape (1, 3, 576, 768)\n",
      "Processed /home/dhvani23/dwarakesh/Combine/Data/GREEN SOLID/3620.png\n",
      "\n",
      "image 1/1 /home/dhvani23/dwarakesh/Combine/Data/GREEN SOLID/3330.png: 576x768 1 outer, 1 inner, 11.1ms\n",
      "Speed: 2.3ms preprocess, 11.1ms inference, 0.9ms postprocess per image at shape (1, 3, 576, 768)\n",
      "Processed /home/dhvani23/dwarakesh/Combine/Data/GREEN SOLID/3330.png\n",
      "\n",
      "image 1/1 /home/dhvani23/dwarakesh/Combine/Data/GREEN SOLID/3370.png: 576x768 1 outer, 1 inner, 11.1ms\n",
      "Speed: 2.3ms preprocess, 11.1ms inference, 1.0ms postprocess per image at shape (1, 3, 576, 768)\n",
      "Processed /home/dhvani23/dwarakesh/Combine/Data/GREEN SOLID/3370.png\n",
      "\n",
      "image 1/1 /home/dhvani23/dwarakesh/Combine/Data/GREEN SOLID/3624.png: 576x768 1 outer, 1 inner, 11.1ms\n",
      "Speed: 2.2ms preprocess, 11.1ms inference, 0.9ms postprocess per image at shape (1, 3, 576, 768)\n",
      "Processed /home/dhvani23/dwarakesh/Combine/Data/GREEN SOLID/3624.png\n",
      "\n",
      "image 1/1 /home/dhvani23/dwarakesh/Combine/Data/GREEN SOLID/3367.png: 576x768 1 outer, 1 inner, 10.9ms\n",
      "Speed: 2.2ms preprocess, 10.9ms inference, 0.9ms postprocess per image at shape (1, 3, 576, 768)\n",
      "Processed /home/dhvani23/dwarakesh/Combine/Data/GREEN SOLID/3367.png\n",
      "\n",
      "image 1/1 /home/dhvani23/dwarakesh/Combine/Data/GREEN SOLID/3632.png: 576x768 1 outer, 1 inner, 11.8ms\n",
      "Speed: 2.6ms preprocess, 11.8ms inference, 0.9ms postprocess per image at shape (1, 3, 576, 768)\n",
      "Processed /home/dhvani23/dwarakesh/Combine/Data/GREEN SOLID/3632.png\n",
      "\n",
      "image 1/1 /home/dhvani23/dwarakesh/Combine/Data/GREEN SOLID/3362.png: 576x768 1 outer, 1 inner, 11.1ms\n",
      "Speed: 2.2ms preprocess, 11.1ms inference, 0.9ms postprocess per image at shape (1, 3, 576, 768)\n",
      "Processed /home/dhvani23/dwarakesh/Combine/Data/GREEN SOLID/3362.png\n",
      "\n",
      "image 1/1 /home/dhvani23/dwarakesh/Combine/Data/GREEN SOLID/3618.png: 576x768 1 outer, 1 inner, 11.1ms\n",
      "Speed: 2.4ms preprocess, 11.1ms inference, 0.9ms postprocess per image at shape (1, 3, 576, 768)\n",
      "Processed /home/dhvani23/dwarakesh/Combine/Data/GREEN SOLID/3618.png\n",
      "\n",
      "image 1/1 /home/dhvani23/dwarakesh/Combine/Data/GREEN SOLID/3614.png: 576x768 1 outer, 1 inner, 11.1ms\n",
      "Speed: 2.3ms preprocess, 11.1ms inference, 0.9ms postprocess per image at shape (1, 3, 576, 768)\n",
      "Processed /home/dhvani23/dwarakesh/Combine/Data/GREEN SOLID/3614.png\n",
      "\n",
      "image 1/1 /home/dhvani23/dwarakesh/Combine/Data/GREEN SOLID/3642.png: 576x768 1 outer, 1 inner, 11.2ms\n",
      "Speed: 2.2ms preprocess, 11.2ms inference, 1.0ms postprocess per image at shape (1, 3, 576, 768)\n",
      "Processed /home/dhvani23/dwarakesh/Combine/Data/GREEN SOLID/3642.png\n",
      "\n",
      "image 1/1 /home/dhvani23/dwarakesh/Combine/Data/GREEN SOLID/3636.png: 576x768 1 outer, 1 inner, 11.1ms\n",
      "Speed: 2.2ms preprocess, 11.1ms inference, 1.2ms postprocess per image at shape (1, 3, 576, 768)\n",
      "Processed /home/dhvani23/dwarakesh/Combine/Data/GREEN SOLID/3636.png\n",
      "\n",
      "image 1/1 /home/dhvani23/dwarakesh/Combine/Data/GREEN SOLID/3653.png: 576x768 1 outer, 1 inner, 11.2ms\n",
      "Speed: 2.2ms preprocess, 11.2ms inference, 0.9ms postprocess per image at shape (1, 3, 576, 768)\n",
      "Processed /home/dhvani23/dwarakesh/Combine/Data/GREEN SOLID/3653.png\n",
      "\n",
      "image 1/1 /home/dhvani23/dwarakesh/Combine/Data/GREEN SOLID/3649.png: 576x768 1 outer, 1 inner, 11.3ms\n",
      "Speed: 2.3ms preprocess, 11.3ms inference, 0.9ms postprocess per image at shape (1, 3, 576, 768)\n",
      "Processed /home/dhvani23/dwarakesh/Combine/Data/GREEN SOLID/3649.png\n",
      "\n",
      "image 1/1 /home/dhvani23/dwarakesh/Combine/Data/GREEN SOLID/3364.png: 576x768 1 outer, 1 inner, 11.0ms\n",
      "Speed: 2.2ms preprocess, 11.0ms inference, 1.0ms postprocess per image at shape (1, 3, 576, 768)\n",
      "Processed /home/dhvani23/dwarakesh/Combine/Data/GREEN SOLID/3364.png\n",
      "\n",
      "image 1/1 /home/dhvani23/dwarakesh/Combine/Data/GREEN SOLID/3350.png: 576x768 1 outer, 1 inner, 11.1ms\n",
      "Speed: 2.3ms preprocess, 11.1ms inference, 0.9ms postprocess per image at shape (1, 3, 576, 768)\n",
      "Processed /home/dhvani23/dwarakesh/Combine/Data/GREEN SOLID/3350.png\n",
      "\n",
      "image 1/1 /home/dhvani23/dwarakesh/Combine/Data/GREEN SOLID/3373.png: 576x768 1 outer, 1 inner, 11.5ms\n",
      "Speed: 2.4ms preprocess, 11.5ms inference, 0.9ms postprocess per image at shape (1, 3, 576, 768)\n",
      "Processed /home/dhvani23/dwarakesh/Combine/Data/GREEN SOLID/3373.png\n",
      "\n",
      "image 1/1 /home/dhvani23/dwarakesh/Combine/Data/GREEN SOLID/3333.png: 576x768 1 outer, 1 inner, 11.2ms\n",
      "Speed: 2.2ms preprocess, 11.2ms inference, 0.9ms postprocess per image at shape (1, 3, 576, 768)\n",
      "Processed /home/dhvani23/dwarakesh/Combine/Data/GREEN SOLID/3333.png\n",
      "\n",
      "image 1/1 /home/dhvani23/dwarakesh/Combine/Data/GREEN SOLID/3327.png: 576x768 1 outer, 1 inner, 11.1ms\n",
      "Speed: 2.2ms preprocess, 11.1ms inference, 0.9ms postprocess per image at shape (1, 3, 576, 768)\n",
      "Processed /home/dhvani23/dwarakesh/Combine/Data/GREEN SOLID/3327.png\n",
      "\n",
      "image 1/1 /home/dhvani23/dwarakesh/Combine/Data/GREEN SOLID/3321.png: 576x768 1 outer, 1 inner, 11.1ms\n",
      "Speed: 2.3ms preprocess, 11.1ms inference, 0.9ms postprocess per image at shape (1, 3, 576, 768)\n",
      "Processed /home/dhvani23/dwarakesh/Combine/Data/GREEN SOLID/3321.png\n",
      "YOLO detection and cropping completed.\n"
     ]
    }
   ],
   "source": [
    "from main import run_yolo_on_dataset\n",
    "\n",
    "model_path = base_dir / \"runs/detect/train/weights/best.pt\"\n",
    "input_dir = dataset_dir\n",
    "output_cone_dir = base_dir /\"yolo_output/cone\"\n",
    "output_pattern_dir = base_dir /\"yolo_output/pattern\"\n",
    "\n",
    "run_yolo_on_dataset(model_path, input_dir, output_cone_dir, output_pattern_dir, conf_thresh=0.6)\n"
   ]
  },
  {
   "cell_type": "code",
   "execution_count": null,
   "metadata": {},
   "outputs": [
    {
     "name": "stdout",
     "output_type": "stream",
     "text": [
      "✅ Support set created at: /home/dhvani23/dwarakesh/Combine/fewshot_training_output/support_set\n"
     ]
    },
    {
     "name": "stderr",
     "output_type": "stream",
     "text": [
      "2025-10-01 18:01:02,897 - INFO - Starting training for 20 epochs on cuda.\n",
      "2025-10-01 18:01:02,898 - INFO - Epoch 1/20\n",
      "2025-10-01 18:01:48,938 - INFO - Train Loss: 0.1645, Train Accuracy: 0.9354\n",
      "2025-10-01 18:01:57,418 - INFO - Val Loss: 0.0465, Val Accuracy: 0.9867\n",
      "2025-10-01 18:01:57,765 - INFO - Model saved at epoch 1.\n",
      "2025-10-01 18:01:58,107 - INFO - Best model saved.\n",
      "2025-10-01 18:01:58,108 - INFO - Epoch 2/20\n",
      "2025-10-01 18:02:43,858 - INFO - Train Loss: 0.1160, Train Accuracy: 0.9553\n",
      "2025-10-01 18:02:52,262 - INFO - Val Loss: 0.0133, Val Accuracy: 0.9930\n",
      "2025-10-01 18:02:52,594 - INFO - Model saved at epoch 2.\n",
      "2025-10-01 18:02:53,384 - INFO - Best model saved.\n",
      "2025-10-01 18:02:53,384 - INFO - Epoch 3/20\n",
      "2025-10-01 18:03:39,244 - INFO - Train Loss: 0.0613, Train Accuracy: 0.9766\n",
      "2025-10-01 18:03:47,487 - INFO - Val Loss: 0.0000, Val Accuracy: 1.0000\n",
      "2025-10-01 18:03:47,827 - INFO - Model saved at epoch 3.\n",
      "2025-10-01 18:03:48,338 - INFO - Best model saved.\n",
      "2025-10-01 18:03:48,339 - INFO - Epoch 4/20\n",
      "2025-10-01 18:04:34,225 - INFO - Train Loss: 0.0417, Train Accuracy: 0.9859\n",
      "2025-10-01 18:04:42,769 - INFO - Val Loss: 0.0000, Val Accuracy: 1.0000\n",
      "2025-10-01 18:04:43,121 - INFO - Model saved at epoch 4.\n",
      "2025-10-01 18:04:43,121 - INFO - Epoch 5/20\n",
      "2025-10-01 18:05:29,025 - INFO - Train Loss: 0.0305, Train Accuracy: 0.9908\n",
      "2025-10-01 18:05:37,341 - INFO - Val Loss: 0.0006, Val Accuracy: 1.0000\n",
      "2025-10-01 18:05:37,674 - INFO - Model saved at epoch 5.\n",
      "2025-10-01 18:05:37,674 - INFO - Epoch 6/20\n",
      "2025-10-01 18:06:23,553 - INFO - Train Loss: 0.0500, Train Accuracy: 0.9842\n",
      "2025-10-01 18:06:31,875 - INFO - Val Loss: 0.0931, Val Accuracy: 0.9719\n",
      "2025-10-01 18:06:32,211 - INFO - Model saved at epoch 6.\n",
      "2025-10-01 18:06:32,211 - INFO - Epoch 7/20\n",
      "2025-10-01 18:07:18,292 - INFO - Train Loss: 0.0395, Train Accuracy: 0.9861\n",
      "2025-10-01 18:07:26,703 - INFO - Val Loss: 0.0000, Val Accuracy: 1.0000\n",
      "2025-10-01 18:07:27,043 - INFO - Model saved at epoch 7.\n",
      "2025-10-01 18:07:27,043 - INFO - Epoch 8/20\n",
      "2025-10-01 18:08:13,502 - INFO - Train Loss: 0.0242, Train Accuracy: 0.9916\n",
      "2025-10-01 18:08:21,941 - INFO - Val Loss: 0.0000, Val Accuracy: 1.0000\n",
      "2025-10-01 18:08:22,284 - INFO - Model saved at epoch 8.\n",
      "2025-10-01 18:08:22,285 - INFO - Epoch 9/20\n",
      "2025-10-01 18:09:08,345 - INFO - Train Loss: 0.0452, Train Accuracy: 0.9857\n",
      "2025-10-01 18:09:16,580 - INFO - Val Loss: 0.0405, Val Accuracy: 0.9883\n",
      "2025-10-01 18:09:16,918 - INFO - Model saved at epoch 9.\n",
      "2025-10-01 18:09:16,919 - INFO - Epoch 10/20\n",
      "2025-10-01 18:10:03,145 - INFO - Train Loss: 0.1280, Train Accuracy: 0.9555\n",
      "2025-10-01 18:10:11,535 - INFO - Val Loss: 0.0701, Val Accuracy: 0.9742\n",
      "2025-10-01 18:10:11,874 - INFO - Model saved at epoch 10.\n",
      "2025-10-01 18:10:11,875 - INFO - Epoch 11/20\n",
      "2025-10-01 18:10:58,753 - INFO - Train Loss: 0.0924, Train Accuracy: 0.9621\n",
      "2025-10-01 18:11:07,111 - INFO - Val Loss: 0.1287, Val Accuracy: 0.9414\n",
      "2025-10-01 18:11:07,455 - INFO - Model saved at epoch 11.\n",
      "2025-10-01 18:11:07,456 - INFO - Epoch 12/20\n",
      "2025-10-01 18:11:53,551 - INFO - Train Loss: 0.0394, Train Accuracy: 0.9842\n",
      "2025-10-01 18:12:01,861 - INFO - Val Loss: 0.1059, Val Accuracy: 0.9586\n",
      "2025-10-01 18:12:02,196 - INFO - Model saved at epoch 12.\n",
      "2025-10-01 18:12:02,197 - INFO - Epoch 13/20\n",
      "2025-10-01 18:12:48,825 - INFO - Train Loss: 0.0496, Train Accuracy: 0.9816\n",
      "2025-10-01 18:12:57,234 - INFO - Val Loss: 0.0395, Val Accuracy: 0.9844\n",
      "2025-10-01 18:12:57,575 - INFO - Model saved at epoch 13.\n",
      "2025-10-01 18:12:57,576 - INFO - Epoch 14/20\n",
      "2025-10-01 18:13:44,067 - INFO - Train Loss: 0.0511, Train Accuracy: 0.9807\n",
      "2025-10-01 18:13:52,437 - INFO - Val Loss: 0.1013, Val Accuracy: 0.9570\n",
      "2025-10-01 18:13:52,774 - INFO - Model saved at epoch 14.\n",
      "2025-10-01 18:13:52,774 - INFO - Epoch 15/20\n",
      "2025-10-01 18:14:39,015 - INFO - Train Loss: 0.0484, Train Accuracy: 0.9803\n",
      "2025-10-01 18:14:47,314 - INFO - Val Loss: 0.1135, Val Accuracy: 0.9453\n",
      "2025-10-01 18:14:47,660 - INFO - Model saved at epoch 15.\n",
      "2025-10-01 18:14:47,660 - INFO - Epoch 16/20\n",
      "2025-10-01 18:15:33,991 - INFO - Train Loss: 0.0379, Train Accuracy: 0.9852\n",
      "2025-10-01 18:15:42,353 - INFO - Val Loss: 0.1224, Val Accuracy: 0.9414\n",
      "2025-10-01 18:15:42,688 - INFO - Model saved at epoch 16.\n",
      "2025-10-01 18:15:42,689 - INFO - Epoch 17/20\n",
      "2025-10-01 18:16:29,567 - INFO - Train Loss: 0.0339, Train Accuracy: 0.9871\n",
      "2025-10-01 18:16:37,861 - INFO - Val Loss: 0.1283, Val Accuracy: 0.9398\n",
      "2025-10-01 18:16:38,202 - INFO - Model saved at epoch 17.\n",
      "2025-10-01 18:16:38,202 - INFO - Epoch 18/20\n",
      "2025-10-01 18:17:24,263 - INFO - Train Loss: 0.0473, Train Accuracy: 0.9812\n",
      "2025-10-01 18:17:32,635 - INFO - Val Loss: 0.1443, Val Accuracy: 0.9352\n",
      "2025-10-01 18:17:32,972 - INFO - Model saved at epoch 18.\n",
      "2025-10-01 18:17:32,972 - INFO - Epoch 19/20\n",
      "2025-10-01 18:18:19,166 - INFO - Train Loss: 0.0347, Train Accuracy: 0.9875\n",
      "2025-10-01 18:18:27,526 - INFO - Val Loss: 0.1086, Val Accuracy: 0.9539\n",
      "2025-10-01 18:18:27,879 - INFO - Model saved at epoch 19.\n",
      "2025-10-01 18:18:27,879 - INFO - Epoch 20/20\n",
      "2025-10-01 18:19:13,863 - INFO - Train Loss: 0.0378, Train Accuracy: 0.9855\n",
      "2025-10-01 18:19:22,150 - INFO - Val Loss: 0.1222, Val Accuracy: 0.9375\n",
      "2025-10-01 18:19:22,491 - INFO - Model saved at epoch 20.\n",
      "2025-10-01 18:19:22,492 - INFO - Training history saved.\n",
      "2025-10-01 18:19:22,492 - INFO - Training finished.\n",
      "2025-10-01 18:19:23,208 - INFO - ===== Best Model Metrics =====\n",
      "2025-10-01 18:19:23,208 - INFO - ✅ Accuracy: 0.9933\n",
      "2025-10-01 18:19:23,209 - INFO - ✅ Precision: 0.9737\n",
      "2025-10-01 18:19:23,209 - INFO - ✅ Recall: 0.9867\n",
      "2025-10-01 18:19:23,209 - INFO - ✅ F1-score: 0.9801\n"
     ]
    },
    {
     "name": "stdout",
     "output_type": "stream",
     "text": [
      "Training completed. Models saved at /home/dhvani23/dwarakesh/Combine/fewshot_training_output\n"
     ]
    }
   ],
   "source": [
    "from pathlib import Path\n",
    "from main import train_fewshot_triplet\n",
    "\n",
    "\n",
    "output_pattern_dir = base_dir / \"yolo_output/pattern\"  # your dataset folder\n",
    "output_dir = \"/home/dhvani23/dwarakesh/Combine/fewshot_training_output\"  # where checkpoints & support set will be saved\n",
    "\n",
    "\n",
    "embedding_size = 64        # embedding vector size\n",
    "num_episodes = 6400        # total episodes for training\n",
    "train_val_split = [0.8, 0.2]  # 80% train, 20% validation\n",
    "epochs = 20\n",
    "batch_size = 16\n",
    "learning_rate = 0.0005\n",
    "margin = 1.0\n",
    "k = 5  # Number of images per class to select\n",
    "\n",
    "# -----------------------------\n",
    "# Train Few-Shot Triplet Network\n",
    "# -----------------------------\n",
    "train_fewshot_triplet(\n",
    "    dataset_root=output_pattern_dir,\n",
    "    output_dir=output_dir,\n",
    "    embedding_size=embedding_size,\n",
    "    num_episodes=num_episodes,\n",
    "    train_val_split=train_val_split,\n",
    "    epochs=epochs,\n",
    "    batch_size=batch_size,\n",
    "    learning_rate=learning_rate,\n",
    "    margin=margin,\n",
    "    k= k  # <-- this controls number of images per class\n",
    ")"
   ]
  },
  {
   "cell_type": "code",
   "execution_count": null,
   "metadata": {},
   "outputs": [],
   "source": []
  },
  {
   "cell_type": "code",
   "execution_count": null,
   "metadata": {},
   "outputs": [],
   "source": []
  },
  {
   "cell_type": "code",
   "execution_count": null,
   "metadata": {},
   "outputs": [],
   "source": []
  },
  {
   "cell_type": "code",
   "execution_count": 14,
   "metadata": {},
   "outputs": [
    {
     "data": {
      "text/plain": [
       "<module 'main' from '/home/dhvani23/dwarakesh/Combine/main.py'>"
      ]
     },
     "execution_count": 14,
     "metadata": {},
     "output_type": "execute_result"
    }
   ],
   "source": [
    "import importlib\n",
    "import main  # your main.py file\n",
    "\n",
    "# Reload the whole module\n",
    "importlib.reload(main)\n"
   ]
  }
 ],
 "metadata": {
  "kernelspec": {
   "display_name": "yolov5",
   "language": "python",
   "name": "python3"
  },
  "language_info": {
   "codemirror_mode": {
    "name": "ipython",
    "version": 3
   },
   "file_extension": ".py",
   "mimetype": "text/x-python",
   "name": "python",
   "nbconvert_exporter": "python",
   "pygments_lexer": "ipython3",
   "version": "3.8.20"
  }
 },
 "nbformat": 4,
 "nbformat_minor": 2
}
